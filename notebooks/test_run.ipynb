{
 "cells": [
  {
   "cell_type": "code",
   "execution_count": 1,
   "metadata": {},
   "outputs": [],
   "source": [
    "from fasttext_classifier.model import FastTextClassifier, FastTextClassifierConfig\n",
    "from fasttext_classifier.encoder import FastTextEncoder\n",
    "from datasets import load_dataset\n",
    "from pytorch_lightning import Trainer"
   ]
  },
  {
   "cell_type": "code",
   "execution_count": 2,
   "metadata": {},
   "outputs": [
    {
     "name": "stderr",
     "output_type": "stream",
     "text": [
      "Found cached dataset ag_news (/Users/joseph.lee/.cache/huggingface/datasets/ag_news/default/0.0.0/bc2bcb40336ace1a0374767fc29bb0296cdaf8a6da7298436239c54d79180548)\n",
      "Found cached dataset ag_news (/Users/joseph.lee/.cache/huggingface/datasets/ag_news/default/0.0.0/bc2bcb40336ace1a0374767fc29bb0296cdaf8a6da7298436239c54d79180548)\n"
     ]
    }
   ],
   "source": [
    "dataset_name = \"ag_news\"\n",
    "train_iter = load_dataset(dataset_name, split=\"train\")\n",
    "test_iter = load_dataset(dataset_name, split=\"test\")"
   ]
  },
  {
   "cell_type": "code",
   "execution_count": 3,
   "metadata": {},
   "outputs": [],
   "source": [
    "config = FastTextClassifierConfig(\n",
    "    num_classes=4,\n",
    "    batch_size=256,\n",
    "    lr=0.5,\n",
    "    min_n=2,\n",
    "    max_n=6,\n",
    "    word_ngrams=2,\n",
    "    dim=10,\n",
    "    bucket=10000,\n",
    ")"
   ]
  },
  {
   "attachments": {},
   "cell_type": "markdown",
   "metadata": {},
   "source": [
    "initialize tokenizer"
   ]
  },
  {
   "cell_type": "code",
   "execution_count": 4,
   "metadata": {},
   "outputs": [],
   "source": [
    "tokenizer = FastTextEncoder(train_iter[\"text\"], config=config)"
   ]
  },
  {
   "cell_type": "code",
   "execution_count": 5,
   "metadata": {},
   "outputs": [
    {
     "data": {
      "text/plain": [
       "{'text': \"Wall St. Bears Claw Back Into the Black (Reuters) Reuters - Short-sellers, Wall Street's dwindling\\\\band of ultra-cynics, are seeing green again.\",\n",
       " 'label': 2}"
      ]
     },
     "execution_count": 5,
     "metadata": {},
     "output_type": "execute_result"
    }
   ],
   "source": [
    "train_iter[0]"
   ]
  },
  {
   "cell_type": "code",
   "execution_count": 12,
   "metadata": {},
   "outputs": [
    {
     "data": {
      "text/plain": [
       "{'input_ids': tensor([[   25,  5976,  7283,  9869,  5667,  9447,  9577,  7503,  3193,  1221,\n",
       "           5364,  1416,  6466,  9721,  9333,  8771,  5500,  1448,  1154,  5860,\n",
       "           1126,  8632,  5874,  6795, 10015,   785,  5023,  1566,   981,  2861,\n",
       "           9522,  3604,  2583,  8631,  2996,   414, 10007,  2167,  5588,  9406,\n",
       "           3934,  2175,   243,  3958,  5528,  2104,  7404,  1616,  8235,   948,\n",
       "           9358,   958,  7733,  2566,  4776,  2578,  1567,  5107,  1077,  5649,\n",
       "            556,  5023,  1090,  4507,  2328,  5266,  4080,  9057,  4246,  9304,\n",
       "           9649,  1318,  9784,  5743,  8819,  4240,  1690,  4924,  3272,   405,\n",
       "            881,  7650,  7458,  1463,   203,  4387,  2340,  6958,  6792,  8210,\n",
       "            628,  5025,  1235,  9810,  9044,  9173,  2064,  1018,  3338,  6364,\n",
       "           8574,  5023,  8233,  6720,  8385,  7574,  2175,  1986,  6875,  6664,\n",
       "           7810,  2578,  3947,  5080,  4898,  9649,  1318,  9784,  5743,  8819,\n",
       "           4240,  3117,  2517,  1152,  1503,  4977,  6243,  8338,  6885,  2803,\n",
       "           4274,  7268,  1347,  4789,  6944,  5806,  2387,  1189,   176,  4446,\n",
       "           1663,  7792,  4303,  6351,  1132,  4855,  1078,  8660,  3101,  7204,\n",
       "           6798,  9530,  2451,  7654,  6696,  3958,  2517,  5857,  2581,   913,\n",
       "            578,  3119,  7902,  3169,  4095,  8542,  7268,  1347,  4789,  6944,\n",
       "           5806,  2387,  1189,   176,  4446,  1663,  7792,  4303,  6351,  1132,\n",
       "           1046,  1078,  8660,  3101,  2441,  9530,  2451,  7655,  3958,  5528,\n",
       "           2104,  5974,  1896,  9030,  5500,  1924,  3809,  1281,  3503,  9698,\n",
       "            967,  7127,  5753,  6316,  9052,   194,  1426,  9949,  4690,  9672,\n",
       "           6900,  2683,   304,  7807,  5863,  4350,  5231,  8414,  6230,  4414,\n",
       "           5519,  7454,  4598,  7630,  4741,  4256,  5252,  9672,  5815,  9721,\n",
       "           5599,  1337,  4644,  4698,  3816,  2428,  3963,  1907,  2456,  9721,\n",
       "           1236,  7834,  9219,  9453,  3054,  5020,  5925,   363,  3791,  9530,\n",
       "           2451,  4797,  2713,  3958,  5374,  9840,  5438,  4896,  6595,  5976,\n",
       "           7283,  9869,  5667,  9447,  9577,  7503,  3193,  1221,  5364,  1416,\n",
       "           6466,  9721,  9333,  8771,  5500,  1448,  2262,  7129,  6404,  1126,\n",
       "           1492,  2611,  1794,  6530,  4887,  4470,  9657,  6615,  6848,   148,\n",
       "           3299,  5221,  9766,  1511,   483,  8165,  8230,  4199,  3051,  4768,\n",
       "           7589,  2874,  4764,  5520,  9185,  7629,  8051,  2135,  2104,  6929,\n",
       "           7282,  1625,  4213,  5923,  4720,  3331,  7287,  9833,  4031,  3409,\n",
       "           8909,  6827,  6453,  6556,   530,  9410,  1578,  8705,  4957,  6291,\n",
       "           1245,  8692,  1694,  5243,   433,  7568,  8170,  2615,  5729,  1626,\n",
       "           1164,  9345,  8919,  6903,   530,  1791,  2265,  9225,  5024,  3910,\n",
       "           8814,  6940,  9039,  7987,  9746,  7048,  3331,  9127,  3145,  5743,\n",
       "            642,   676,  5696,  5018,  3792,  3354,  8810,  8236,   602,  5130,\n",
       "           9708,  6291,  5527,   907,  3120,  7186,  4612,  1100,  9014,  3033,\n",
       "           7406,  5094,  3990,  9188,  2359,   648,  9636,   890,  6777,  9788,\n",
       "           2577,  8161,  8952,  2591,  1548,  4887,  3994,  2869,  9482,   593,\n",
       "            624,  8183,  4404,  6815,  2803,  5367,  1156,  4351,  8851,  2934,\n",
       "           6645,  2684,  1878,  1173,  4554,  9077,  5377,   128,  7857,  5710,\n",
       "           4194,  9129,  3750,  2343,  2193,  9148,  3317,  5562,  2242,  1428,\n",
       "           7673,  4006,  4974,  1568,  2887,   945,  9213,  5438,  4896,  6595,\n",
       "           8834,  1496,  7863,  6747,  3934,  9793,  1069,   148,  7582,  8574,\n",
       "           1692,  1259,  2218,  5361,  2285,  9721,  7028,  5743,  4435,  8524,\n",
       "            483,  1974,  9752,  4445,  2745,   959,  1619,  9596,  9862,   530,\n",
       "           1791,   835,  3910,  7384,   700,  4072,  6950,  4745,  8724,  9278,\n",
       "           7840,  9903,  1614,  8448,   890,   148,  3299,  7127,  3099,   483,\n",
       "           3879,   635,  9054,  9312,  2961,  8834,  6735,  1650,  4745,  5525,\n",
       "           9173,  5796,  4415,  9219,  1223,  8793,  7048,  9922,  3460,  8302,\n",
       "           3459,  4343,  8475,  6271,   530,  5604,  8046,  4865,  7053,   785,\n",
       "           3071,  6304,   918,  3068,  3565,  4673,  1244,  7812,  6315,  6533,\n",
       "           6224,  7877,  9619,  4416,  9736,  2133,  9716,  1563,  9688,   267]],\n",
       "        dtype=torch.int32),\n",
       " 'len_ids': tensor([540], dtype=torch.int32)}"
      ]
     },
     "execution_count": 12,
     "metadata": {},
     "output_type": "execute_result"
    }
   ],
   "source": [
    "tokenizer([train_iter[0][\"text\"].split()], ft_mode=True, return_tensors=\"pt\")"
   ]
  },
  {
   "cell_type": "code",
   "execution_count": 13,
   "metadata": {},
   "outputs": [],
   "source": [
    "def tokenize_helper(x):\n",
    "    out = tokenizer([x[\"text\"].split()], ft_mode=True)\n",
    "    return {\"input_ids\": out[\"input_ids\"]}"
   ]
  },
  {
   "cell_type": "code",
   "execution_count": 16,
   "metadata": {},
   "outputs": [
    {
     "name": "stdout",
     "output_type": "stream",
     "text": [
      "            "
     ]
    },
    {
     "data": {
      "application/vnd.jupyter.widget-view+json": {
       "model_id": "de1099c0f0bd4229987a2d97ce0df164",
       "version_major": 2,
       "version_minor": 0
      },
      "text/plain": [
       "#2:   0%|          | 0/15000 [00:00<?, ?ex/s]"
      ]
     },
     "metadata": {},
     "output_type": "display_data"
    },
    {
     "data": {
      "application/vnd.jupyter.widget-view+json": {
       "model_id": "f74a9f12b28d4202baf12b1ff6726efd",
       "version_major": 2,
       "version_minor": 0
      },
      "text/plain": [
       "#0:   0%|          | 0/15000 [00:00<?, ?ex/s]"
      ]
     },
     "metadata": {},
     "output_type": "display_data"
    },
    {
     "data": {
      "application/vnd.jupyter.widget-view+json": {
       "model_id": "08154380266a44a0ae1e6510d1a59ac3",
       "version_major": 2,
       "version_minor": 0
      },
      "text/plain": [
       "#3:   0%|          | 0/15000 [00:00<?, ?ex/s]"
      ]
     },
     "metadata": {},
     "output_type": "display_data"
    },
    {
     "name": "stdout",
     "output_type": "stream",
     "text": [
      " "
     ]
    },
    {
     "data": {
      "application/vnd.jupyter.widget-view+json": {
       "model_id": "ec34c534a90c4f16bc8804d07d6ec6ed",
       "version_major": 2,
       "version_minor": 0
      },
      "text/plain": [
       "#1:   0%|          | 0/15000 [00:00<?, ?ex/s]"
      ]
     },
     "metadata": {},
     "output_type": "display_data"
    },
    {
     "name": "stdout",
     "output_type": "stream",
     "text": [
      "  "
     ]
    },
    {
     "data": {
      "application/vnd.jupyter.widget-view+json": {
       "model_id": "c44f21e8325b4236ad933579fd666273",
       "version_major": 2,
       "version_minor": 0
      },
      "text/plain": [
       "#4:   0%|          | 0/15000 [00:00<?, ?ex/s]"
      ]
     },
     "metadata": {},
     "output_type": "display_data"
    },
    {
     "data": {
      "application/vnd.jupyter.widget-view+json": {
       "model_id": "2d5d010dba1c4e9883768b9004d3095b",
       "version_major": 2,
       "version_minor": 0
      },
      "text/plain": [
       "#5:   0%|          | 0/15000 [00:00<?, ?ex/s]"
      ]
     },
     "metadata": {},
     "output_type": "display_data"
    },
    {
     "data": {
      "application/vnd.jupyter.widget-view+json": {
       "model_id": "057eb66d0b684c81916b0aac61384564",
       "version_major": 2,
       "version_minor": 0
      },
      "text/plain": [
       "#6:   0%|          | 0/15000 [00:00<?, ?ex/s]"
      ]
     },
     "metadata": {},
     "output_type": "display_data"
    },
    {
     "name": "stdout",
     "output_type": "stream",
     "text": [
      " "
     ]
    },
    {
     "data": {
      "application/vnd.jupyter.widget-view+json": {
       "model_id": "a08fd14521c24f5d921182cb06cd8c74",
       "version_major": 2,
       "version_minor": 0
      },
      "text/plain": [
       "#7:   0%|          | 0/15000 [00:00<?, ?ex/s]"
      ]
     },
     "metadata": {},
     "output_type": "display_data"
    }
   ],
   "source": [
    "train_iter2 = train_iter.map(tokenize_helper, num_proc=8)"
   ]
  },
  {
   "cell_type": "code",
   "execution_count": 24,
   "metadata": {},
   "outputs": [
    {
     "data": {
      "text/plain": [
       "[540, 1021, 845, 971, 853, 862, 764, 927, 1484, 527]"
      ]
     },
     "execution_count": 24,
     "metadata": {},
     "output_type": "execute_result"
    }
   ],
   "source": [
    "[len(x[0]) for x in train_iter2[0:10][\"input_ids\"]]"
   ]
  },
  {
   "cell_type": "code",
   "execution_count": null,
   "metadata": {},
   "outputs": [],
   "source": [
    "config.vocab_size = tokenizer.vocab_size"
   ]
  },
  {
   "cell_type": "code",
   "execution_count": null,
   "metadata": {},
   "outputs": [],
   "source": [
    "trainer = Trainer()"
   ]
  },
  {
   "cell_type": "code",
   "execution_count": null,
   "metadata": {},
   "outputs": [],
   "source": [
    "trainer.fit()"
   ]
  }
 ],
 "metadata": {
  "kernelspec": {
   "display_name": "ml_fasttext",
   "language": "python",
   "name": "python3"
  },
  "language_info": {
   "codemirror_mode": {
    "name": "ipython",
    "version": 3
   },
   "file_extension": ".py",
   "mimetype": "text/x-python",
   "name": "python",
   "nbconvert_exporter": "python",
   "pygments_lexer": "ipython3",
   "version": "3.9.12"
  },
  "orig_nbformat": 4,
  "vscode": {
   "interpreter": {
    "hash": "6c3fe96cabc72878c6f224e0a0456e3dff76243bb9f7fe337ace0cc6227985d0"
   }
  }
 },
 "nbformat": 4,
 "nbformat_minor": 2
}
