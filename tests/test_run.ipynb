{
 "cells": [
  {
   "cell_type": "code",
   "execution_count": 1,
   "metadata": {
    "execution": {
     "iopub.execute_input": "2022-12-20T02:57:43.662783Z",
     "iopub.status.busy": "2022-12-20T02:57:43.662149Z",
     "iopub.status.idle": "2022-12-20T02:57:44.923009Z",
     "shell.execute_reply": "2022-12-20T02:57:44.922757Z",
     "shell.execute_reply.started": "2022-12-20T02:57:43.662639Z"
    },
    "tags": []
   },
   "outputs": [],
   "source": [
    "from fasttext_classifier.model import FastTextClassifier, FastTextClassifierConfig\n",
    "from fasttext_classifier.encoder import FastTextEncoder\n",
    "import torch\n",
    "from torch.utils.data import DataLoader\n",
    "from datasets import load_dataset\n",
    "from pytorch_lightning import Trainer\n",
    "from pytorch_lightning import loggers as pl_loggers\n",
    "from pytorch_lightning.callbacks import LearningRateMonitor"
   ]
  },
  {
   "cell_type": "markdown",
   "metadata": {},
   "source": [
    "load dataset"
   ]
  },
  {
   "cell_type": "code",
   "execution_count": 2,
   "metadata": {
    "execution": {
     "iopub.execute_input": "2022-12-20T02:57:44.923711Z",
     "iopub.status.busy": "2022-12-20T02:57:44.923651Z",
     "iopub.status.idle": "2022-12-20T02:57:51.716110Z",
     "shell.execute_reply": "2022-12-20T02:57:51.715819Z",
     "shell.execute_reply.started": "2022-12-20T02:57:44.923704Z"
    },
    "tags": []
   },
   "outputs": [
    {
     "name": "stderr",
     "output_type": "stream",
     "text": [
      "Found cached dataset ag_news (/Users/joseph.lee/.cache/huggingface/datasets/ag_news/default/0.0.0/bc2bcb40336ace1a0374767fc29bb0296cdaf8a6da7298436239c54d79180548)\n"
     ]
    },
    {
     "data": {
      "application/vnd.jupyter.widget-view+json": {
       "model_id": "cb9a8aa5905b44acb7068aeb0ca3e2ab",
       "version_major": 2,
       "version_minor": 0
      },
      "text/plain": [
       "  0%|          | 0/2 [00:00<?, ?it/s]"
      ]
     },
     "metadata": {},
     "output_type": "display_data"
    }
   ],
   "source": [
    "dataset_name = \"ag_news\"\n",
    "dataset = load_dataset(dataset_name)"
   ]
  },
  {
   "cell_type": "code",
   "execution_count": 3,
   "metadata": {
    "execution": {
     "iopub.execute_input": "2022-12-20T02:57:51.716692Z",
     "iopub.status.busy": "2022-12-20T02:57:51.716611Z",
     "iopub.status.idle": "2022-12-20T02:57:51.722015Z",
     "shell.execute_reply": "2022-12-20T02:57:51.721745Z",
     "shell.execute_reply.started": "2022-12-20T02:57:51.716679Z"
    }
   },
   "outputs": [
    {
     "data": {
      "text/plain": [
       "DatasetDict({\n",
       "    train: Dataset({\n",
       "        features: ['text', 'label'],\n",
       "        num_rows: 120000\n",
       "    })\n",
       "    test: Dataset({\n",
       "        features: ['text', 'label'],\n",
       "        num_rows: 7600\n",
       "    })\n",
       "})"
      ]
     },
     "execution_count": 3,
     "metadata": {},
     "output_type": "execute_result"
    }
   ],
   "source": [
    "dataset"
   ]
  },
  {
   "cell_type": "markdown",
   "metadata": {},
   "source": [
    "configuration"
   ]
  },
  {
   "cell_type": "code",
   "execution_count": 4,
   "metadata": {
    "execution": {
     "iopub.execute_input": "2022-12-20T02:57:51.723438Z",
     "iopub.status.busy": "2022-12-20T02:57:51.723206Z",
     "iopub.status.idle": "2022-12-20T02:57:51.726881Z",
     "shell.execute_reply": "2022-12-20T02:57:51.726384Z",
     "shell.execute_reply.started": "2022-12-20T02:57:51.723426Z"
    },
    "tags": []
   },
   "outputs": [],
   "source": [
    "config = FastTextClassifierConfig(\n",
    "    num_classes=4,\n",
    "    batch_size=256,\n",
    "    lr=0.5,\n",
    "    min_n=2,\n",
    "    max_n=6,\n",
    "    word_ngrams=2,\n",
    "    dim=10,\n",
    "    bucket=10000,\n",
    ")"
   ]
  },
  {
   "cell_type": "markdown",
   "metadata": {},
   "source": [
    "initialize tokenizer"
   ]
  },
  {
   "cell_type": "code",
   "execution_count": 5,
   "metadata": {
    "execution": {
     "iopub.execute_input": "2022-12-20T02:57:51.727579Z",
     "iopub.status.busy": "2022-12-20T02:57:51.727507Z",
     "iopub.status.idle": "2022-12-20T02:57:51.730982Z",
     "shell.execute_reply": "2022-12-20T02:57:51.730475Z",
     "shell.execute_reply.started": "2022-12-20T02:57:51.727569Z"
    },
    "tags": []
   },
   "outputs": [],
   "source": [
    "def _tokenize(s):\n",
    "    return s.split()\n",
    "\n",
    "def collate_batch(batch):\n",
    "    label_list = torch.LongTensor([x[\"label\"] for x in batch])\n",
    "    out = tokenizer(\n",
    "        [_tokenize(x[\"text\"]) for x in batch], return_tensors=\"pt\", ft_mode=True\n",
    "    )\n",
    "    return {\n",
    "        \"label\": label_list,\n",
    "        \"input_ids\": out[\"input_ids\"]\n",
    "    }"
   ]
  },
  {
   "cell_type": "code",
   "execution_count": 6,
   "metadata": {
    "execution": {
     "iopub.execute_input": "2022-12-20T02:57:51.731558Z",
     "iopub.status.busy": "2022-12-20T02:57:51.731475Z",
     "iopub.status.idle": "2022-12-20T02:57:54.868762Z",
     "shell.execute_reply": "2022-12-20T02:57:54.868492Z",
     "shell.execute_reply.started": "2022-12-20T02:57:51.731549Z"
    }
   },
   "outputs": [],
   "source": [
    "tokenizer = FastTextEncoder([_tokenize(x) for x in dataset[\"train\"][\"text\"]], config=config)"
   ]
  },
  {
   "cell_type": "code",
   "execution_count": 7,
   "metadata": {
    "execution": {
     "iopub.execute_input": "2022-12-20T02:57:54.869238Z",
     "iopub.status.busy": "2022-12-20T02:57:54.869178Z",
     "iopub.status.idle": "2022-12-20T02:57:54.870886Z",
     "shell.execute_reply": "2022-12-20T02:57:54.870569Z",
     "shell.execute_reply.started": "2022-12-20T02:57:54.869229Z"
    }
   },
   "outputs": [],
   "source": [
    "config.vocab_size = tokenizer.vocab_size"
   ]
  },
  {
   "cell_type": "markdown",
   "metadata": {},
   "source": [
    "generate dataloader with tokenizer"
   ]
  },
  {
   "cell_type": "code",
   "execution_count": 8,
   "metadata": {
    "execution": {
     "iopub.execute_input": "2022-12-20T02:57:54.871345Z",
     "iopub.status.busy": "2022-12-20T02:57:54.871285Z",
     "iopub.status.idle": "2022-12-20T02:57:54.873437Z",
     "shell.execute_reply": "2022-12-20T02:57:54.873197Z",
     "shell.execute_reply.started": "2022-12-20T02:57:54.871337Z"
    },
    "tags": []
   },
   "outputs": [],
   "source": [
    "trainloader = DataLoader(\n",
    "    dataset[\"train\"], batch_size=config.batch_size, shuffle=False, collate_fn=collate_batch\n",
    ")\n",
    "testloader = DataLoader(\n",
    "    dataset[\"test\"], batch_size=config.batch_size, shuffle=False, collate_fn=collate_batch\n",
    ")"
   ]
  },
  {
   "cell_type": "markdown",
   "metadata": {},
   "source": [
    "initialize model"
   ]
  },
  {
   "cell_type": "code",
   "execution_count": 9,
   "metadata": {
    "execution": {
     "iopub.execute_input": "2022-12-20T02:57:54.873997Z",
     "iopub.status.busy": "2022-12-20T02:57:54.873884Z",
     "iopub.status.idle": "2022-12-20T02:57:54.900662Z",
     "shell.execute_reply": "2022-12-20T02:57:54.900383Z",
     "shell.execute_reply.started": "2022-12-20T02:57:54.873985Z"
    },
    "tags": []
   },
   "outputs": [],
   "source": [
    "model = FastTextClassifier(config)"
   ]
  },
  {
   "cell_type": "markdown",
   "metadata": {},
   "source": [
    "train!"
   ]
  },
  {
   "cell_type": "code",
   "execution_count": 10,
   "metadata": {
    "execution": {
     "iopub.execute_input": "2022-12-20T02:57:54.902290Z",
     "iopub.status.busy": "2022-12-20T02:57:54.902207Z",
     "iopub.status.idle": "2022-12-20T02:57:54.940161Z",
     "shell.execute_reply": "2022-12-20T02:57:54.939927Z",
     "shell.execute_reply.started": "2022-12-20T02:57:54.902280Z"
    },
    "tags": []
   },
   "outputs": [
    {
     "name": "stderr",
     "output_type": "stream",
     "text": [
      "GPU available: True (mps), used: False\n",
      "TPU available: False, using: 0 TPU cores\n",
      "IPU available: False, using: 0 IPUs\n",
      "HPU available: False, using: 0 HPUs\n",
      "/opt/homebrew/Caskroom/miniforge/base/envs/ml_fasttext/lib/python3.9/site-packages/pytorch_lightning/trainer/setup.py:200: UserWarning: MPS available but not used. Set `accelerator` and `devices` using `Trainer(accelerator='mps', devices=1)`.\n",
      "  rank_zero_warn(\n"
     ]
    }
   ],
   "source": [
    "loggers = [\n",
    "    pl_loggers.TensorBoardLogger(save_dir=\"./\"), \n",
    "    pl_loggers.CSVLogger(save_dir=\"./\"),\n",
    "]\n",
    "callbacks = [\n",
    "    LearningRateMonitor(logging_interval='step'),\n",
    "]\n",
    "\n",
    "trainer = Trainer(\n",
    "    accelerator=\"cpu\",\n",
    "    max_epochs=2,\n",
    "    logger=loggers,\n",
    "    callbacks=callbacks,\n",
    ")"
   ]
  },
  {
   "cell_type": "code",
   "execution_count": 11,
   "metadata": {
    "execution": {
     "iopub.execute_input": "2022-12-20T02:57:54.940601Z",
     "iopub.status.busy": "2022-12-20T02:57:54.940542Z",
     "iopub.status.idle": "2022-12-20T02:58:59.804180Z",
     "shell.execute_reply": "2022-12-20T02:58:59.803966Z",
     "shell.execute_reply.started": "2022-12-20T02:57:54.940594Z"
    },
    "tags": []
   },
   "outputs": [
    {
     "name": "stderr",
     "output_type": "stream",
     "text": [
      "Loading `train_dataloader` to estimate number of stepping batches.\n",
      "/opt/homebrew/Caskroom/miniforge/base/envs/ml_fasttext/lib/python3.9/site-packages/pytorch_lightning/trainer/connectors/data_connector.py:224: PossibleUserWarning: The dataloader, train_dataloader, does not have many workers which may be a bottleneck. Consider increasing the value of the `num_workers` argument` (try 8 which is the number of cpus on this machine) in the `DataLoader` init to improve performance.\n",
      "  rank_zero_warn(\n",
      "\n",
      "  | Name       | Type                | Params\n",
      "---------------------------------------------------\n",
      "0 | criterion  | CrossEntropyLoss    | 0     \n",
      "1 | embedding  | Embedding           | 2.0 M \n",
      "2 | fc1        | Linear              | 44    \n",
      "3 | val_acc    | MulticlassAccuracy  | 0     \n",
      "4 | val_prec   | MulticlassPrecision | 0     \n",
      "5 | val_recall | MulticlassRecall    | 0     \n",
      "6 | val_f1     | MulticlassF1Score   | 0     \n",
      "---------------------------------------------------\n",
      "2.0 M     Trainable params\n",
      "0         Non-trainable params\n",
      "2.0 M     Total params\n",
      "7.925     Total estimated model params size (MB)\n"
     ]
    },
    {
     "data": {
      "application/vnd.jupyter.widget-view+json": {
       "model_id": "",
       "version_major": 2,
       "version_minor": 0
      },
      "text/plain": [
       "Sanity Checking: 0it [00:00, ?it/s]"
      ]
     },
     "metadata": {},
     "output_type": "display_data"
    },
    {
     "name": "stderr",
     "output_type": "stream",
     "text": [
      "/opt/homebrew/Caskroom/miniforge/base/envs/ml_fasttext/lib/python3.9/site-packages/pytorch_lightning/trainer/connectors/data_connector.py:224: PossibleUserWarning: The dataloader, val_dataloader 0, does not have many workers which may be a bottleneck. Consider increasing the value of the `num_workers` argument` (try 8 which is the number of cpus on this machine) in the `DataLoader` init to improve performance.\n",
      "  rank_zero_warn(\n"
     ]
    },
    {
     "data": {
      "application/vnd.jupyter.widget-view+json": {
       "model_id": "bdbfe9d1083541308820f5d9ffa8aa7c",
       "version_major": 2,
       "version_minor": 0
      },
      "text/plain": [
       "Training: 0it [00:00, ?it/s]"
      ]
     },
     "metadata": {},
     "output_type": "display_data"
    },
    {
     "data": {
      "application/vnd.jupyter.widget-view+json": {
       "model_id": "",
       "version_major": 2,
       "version_minor": 0
      },
      "text/plain": [
       "Validation: 0it [00:00, ?it/s]"
      ]
     },
     "metadata": {},
     "output_type": "display_data"
    },
    {
     "data": {
      "application/vnd.jupyter.widget-view+json": {
       "model_id": "",
       "version_major": 2,
       "version_minor": 0
      },
      "text/plain": [
       "Validation: 0it [00:00, ?it/s]"
      ]
     },
     "metadata": {},
     "output_type": "display_data"
    },
    {
     "name": "stderr",
     "output_type": "stream",
     "text": [
      "`Trainer.fit` stopped: `max_epochs=2` reached.\n"
     ]
    }
   ],
   "source": [
    "trainer.fit(model, trainloader, testloader)"
   ]
  },
  {
   "cell_type": "code",
   "execution_count": 12,
   "metadata": {
    "execution": {
     "iopub.execute_input": "2022-12-20T02:58:59.804621Z",
     "iopub.status.busy": "2022-12-20T02:58:59.804557Z",
     "iopub.status.idle": "2022-12-20T02:59:01.549493Z",
     "shell.execute_reply": "2022-12-20T02:59:01.549286Z",
     "shell.execute_reply.started": "2022-12-20T02:58:59.804612Z"
    },
    "tags": []
   },
   "outputs": [
    {
     "data": {
      "application/vnd.jupyter.widget-view+json": {
       "model_id": "995f21eaf04943eaad8fe240f812c67d",
       "version_major": 2,
       "version_minor": 0
      },
      "text/plain": [
       "Validation: 0it [00:00, ?it/s]"
      ]
     },
     "metadata": {},
     "output_type": "display_data"
    },
    {
     "data": {
      "text/html": [
       "<pre style=\"white-space:pre;overflow-x:auto;line-height:normal;font-family:Menlo,'DejaVu Sans Mono',consolas,'Courier New',monospace\">┏━━━━━━━━━━━━━━━━━━━━━━━━━━━┳━━━━━━━━━━━━━━━━━━━━━━━━━━━┓\n",
       "┃<span style=\"font-weight: bold\">      Validate metric      </span>┃<span style=\"font-weight: bold\">       DataLoader 0        </span>┃\n",
       "┡━━━━━━━━━━━━━━━━━━━━━━━━━━━╇━━━━━━━━━━━━━━━━━━━━━━━━━━━┩\n",
       "│<span style=\"color: #008080; text-decoration-color: #008080\">         eval:acc          </span>│<span style=\"color: #800080; text-decoration-color: #800080\">    0.9027631282806396     </span>│\n",
       "│<span style=\"color: #008080; text-decoration-color: #008080\">       eval:f1score        </span>│<span style=\"color: #800080; text-decoration-color: #800080\">    0.9024980664253235     </span>│\n",
       "│<span style=\"color: #008080; text-decoration-color: #008080\">      eval:precision       </span>│<span style=\"color: #800080; text-decoration-color: #800080\">     0.902481734752655     </span>│\n",
       "│<span style=\"color: #008080; text-decoration-color: #008080\">        eval:recall        </span>│<span style=\"color: #800080; text-decoration-color: #800080\">    0.9027631282806396     </span>│\n",
       "└───────────────────────────┴───────────────────────────┘\n",
       "</pre>\n"
      ],
      "text/plain": [
       "┏━━━━━━━━━━━━━━━━━━━━━━━━━━━┳━━━━━━━━━━━━━━━━━━━━━━━━━━━┓\n",
       "┃\u001b[1m \u001b[0m\u001b[1m     Validate metric     \u001b[0m\u001b[1m \u001b[0m┃\u001b[1m \u001b[0m\u001b[1m      DataLoader 0       \u001b[0m\u001b[1m \u001b[0m┃\n",
       "┡━━━━━━━━━━━━━━━━━━━━━━━━━━━╇━━━━━━━━━━━━━━━━━━━━━━━━━━━┩\n",
       "│\u001b[36m \u001b[0m\u001b[36m        eval:acc         \u001b[0m\u001b[36m \u001b[0m│\u001b[35m \u001b[0m\u001b[35m   0.9027631282806396    \u001b[0m\u001b[35m \u001b[0m│\n",
       "│\u001b[36m \u001b[0m\u001b[36m      eval:f1score       \u001b[0m\u001b[36m \u001b[0m│\u001b[35m \u001b[0m\u001b[35m   0.9024980664253235    \u001b[0m\u001b[35m \u001b[0m│\n",
       "│\u001b[36m \u001b[0m\u001b[36m     eval:precision      \u001b[0m\u001b[36m \u001b[0m│\u001b[35m \u001b[0m\u001b[35m    0.902481734752655    \u001b[0m\u001b[35m \u001b[0m│\n",
       "│\u001b[36m \u001b[0m\u001b[36m       eval:recall       \u001b[0m\u001b[36m \u001b[0m│\u001b[35m \u001b[0m\u001b[35m   0.9027631282806396    \u001b[0m\u001b[35m \u001b[0m│\n",
       "└───────────────────────────┴───────────────────────────┘\n"
      ]
     },
     "metadata": {},
     "output_type": "display_data"
    },
    {
     "data": {
      "text/plain": [
       "[{'eval:acc': 0.9027631282806396,\n",
       "  'eval:precision': 0.902481734752655,\n",
       "  'eval:recall': 0.9027631282806396,\n",
       "  'eval:f1score': 0.9024980664253235}]"
      ]
     },
     "execution_count": 12,
     "metadata": {},
     "output_type": "execute_result"
    }
   ],
   "source": [
    "trainer.validate(model, testloader)"
   ]
  },
  {
   "cell_type": "raw",
   "metadata": {
    "execution": {
     "iopub.execute_input": "2022-12-19T10:31:14.440752Z",
     "iopub.status.busy": "2022-12-19T10:31:14.440452Z",
     "iopub.status.idle": "2022-12-19T10:31:16.112245Z",
     "shell.execute_reply": "2022-12-19T10:31:16.111993Z",
     "shell.execute_reply.started": "2022-12-19T10:31:14.440726Z"
    },
    "tags": []
   },
   "source": [
    "trainer.test(model, testloader)"
   ]
  },
  {
   "cell_type": "code",
   "execution_count": 13,
   "metadata": {
    "execution": {
     "iopub.execute_input": "2022-12-20T02:59:01.550048Z",
     "iopub.status.busy": "2022-12-20T02:59:01.549944Z",
     "iopub.status.idle": "2022-12-20T02:59:03.153933Z",
     "shell.execute_reply": "2022-12-20T02:59:03.153699Z",
     "shell.execute_reply.started": "2022-12-20T02:59:01.550039Z"
    },
    "tags": []
   },
   "outputs": [
    {
     "name": "stderr",
     "output_type": "stream",
     "text": [
      "/opt/homebrew/Caskroom/miniforge/base/envs/ml_fasttext/lib/python3.9/site-packages/pytorch_lightning/trainer/connectors/data_connector.py:224: PossibleUserWarning: The dataloader, predict_dataloader 0, does not have many workers which may be a bottleneck. Consider increasing the value of the `num_workers` argument` (try 8 which is the number of cpus on this machine) in the `DataLoader` init to improve performance.\n",
      "  rank_zero_warn(\n"
     ]
    },
    {
     "data": {
      "application/vnd.jupyter.widget-view+json": {
       "model_id": "0cb380dd6aad4c22b9ecc83bf5d40464",
       "version_major": 2,
       "version_minor": 0
      },
      "text/plain": [
       "Predicting: 469it [00:00, ?it/s]"
      ]
     },
     "metadata": {},
     "output_type": "display_data"
    }
   ],
   "source": [
    "outs = trainer.predict(model, testloader)"
   ]
  },
  {
   "cell_type": "code",
   "execution_count": 14,
   "metadata": {
    "execution": {
     "iopub.execute_input": "2022-12-20T02:59:03.154398Z",
     "iopub.status.busy": "2022-12-20T02:59:03.154344Z",
     "iopub.status.idle": "2022-12-20T02:59:03.156378Z",
     "shell.execute_reply": "2022-12-20T02:59:03.156171Z",
     "shell.execute_reply.started": "2022-12-20T02:59:03.154391Z"
    }
   },
   "outputs": [
    {
     "data": {
      "text/plain": [
       "30"
      ]
     },
     "execution_count": 14,
     "metadata": {},
     "output_type": "execute_result"
    }
   ],
   "source": [
    "len(outs)"
   ]
  },
  {
   "cell_type": "code",
   "execution_count": 15,
   "metadata": {
    "execution": {
     "iopub.execute_input": "2022-12-20T02:59:03.156887Z",
     "iopub.status.busy": "2022-12-20T02:59:03.156783Z",
     "iopub.status.idle": "2022-12-20T02:59:03.159805Z",
     "shell.execute_reply": "2022-12-20T02:59:03.159594Z",
     "shell.execute_reply.started": "2022-12-20T02:59:03.156876Z"
    },
    "tags": []
   },
   "outputs": [
    {
     "data": {
      "text/plain": [
       "{'label': array([2, 3, 3, 1, 3, 3, 3, 3, 3, 2, 3, 3, 3, 3, 3, 3, 3, 3, 3, 3, 2, 3,\n",
       "        3, 2, 2, 3, 1, 1, 1, 1, 1, 1, 0, 0, 0, 0, 2, 0, 0, 0, 1, 2, 0, 3,\n",
       "        1, 1, 0, 2, 0, 1, 0, 1, 0, 3, 2, 1, 2, 0, 2, 2, 1, 1, 1, 3, 0, 3,\n",
       "        0, 0, 1, 0, 3, 3, 3, 0, 3, 1, 0, 1, 0, 1, 0, 1, 2, 3, 0, 0, 2, 0,\n",
       "        0, 3, 0, 2, 3, 2, 0, 1, 1, 2, 0, 2, 1, 2, 3, 2, 0, 1, 2, 0, 0, 3,\n",
       "        3, 3, 3, 3, 3, 1, 3, 3, 2, 1, 2, 1, 3, 0, 3, 3, 0, 1, 1, 0, 0, 0,\n",
       "        1, 0, 1, 1, 0, 1, 1, 2, 1, 0, 1, 0, 0, 0, 1, 2, 1, 1, 1, 0, 1, 0,\n",
       "        2, 0, 0, 1, 1, 0, 1, 2, 3, 0, 0, 2, 2, 2, 1, 0, 3, 3, 2, 3, 0, 0,\n",
       "        3, 1, 3, 1, 2, 1, 1, 2, 2, 0, 3, 0, 1, 3, 3, 0, 0, 0, 2, 2, 2, 1,\n",
       "        2, 1, 3, 3, 3, 0, 1, 1, 1, 2, 1, 3, 1, 0, 1, 1, 1, 2, 2, 2, 2, 1,\n",
       "        1, 0, 2, 1, 2, 2, 0, 1, 2, 0, 1, 1, 2, 3, 2, 1, 2, 1, 0, 2, 3, 1,\n",
       "        1, 3, 2, 2, 3, 3, 2, 0, 2, 0, 1, 2, 2, 3]),\n",
       " 'score': array([0.7313169 , 0.9992514 , 0.968678  , 0.4581957 , 0.5157    ,\n",
       "        0.9993032 , 0.9998324 , 0.99973446, 0.45066586, 0.59945023,\n",
       "        0.9187557 , 0.9998872 , 0.95593697, 0.5527129 , 0.8058052 ,\n",
       "        0.5130912 , 0.9886352 , 0.9987005 , 0.9548968 , 0.57933193,\n",
       "        0.638372  , 0.82328814, 0.83612436, 0.6051976 , 0.51840794,\n",
       "        0.9371407 , 0.45130092, 0.78990537, 0.840933  , 0.9976412 ,\n",
       "        0.99330515, 0.9568817 , 0.9968548 , 0.67473596, 0.9995952 ,\n",
       "        0.8883722 , 0.4626068 , 0.8330391 , 0.99995863, 0.9999597 ,\n",
       "        0.99082386, 0.6091349 , 0.9284697 , 0.8961249 , 0.99631965,\n",
       "        0.99529904, 0.8739253 , 0.8052331 , 0.947667  , 0.9931744 ,\n",
       "        0.9052102 , 0.98950934, 0.99619484, 0.83412623, 0.99556327,\n",
       "        0.4622654 , 0.63850904, 0.9999844 , 0.939862  , 0.9940235 ,\n",
       "        0.9995103 , 0.7687778 , 0.9991611 , 0.98650163, 0.9976526 ,\n",
       "        0.50727594, 0.93390536, 0.8444275 , 0.9544671 , 0.99827504,\n",
       "        0.98692095, 0.9900093 , 0.9951704 , 0.61419797, 0.85577345,\n",
       "        0.9437962 , 0.9518111 , 0.8727293 , 0.9974451 , 0.9359161 ,\n",
       "        0.8596044 , 0.9672965 , 0.95589876, 0.84743893, 0.7010112 ,\n",
       "        0.9997323 , 0.975806  , 0.8746161 , 0.9075844 , 0.90665656,\n",
       "        0.99615127, 0.7459149 , 0.92155993, 0.99276286, 0.6015251 ,\n",
       "        0.9978644 , 0.9966702 , 0.9999945 , 0.99969196, 0.9911514 ,\n",
       "        0.8277879 , 0.9686035 , 0.7757555 , 0.42113152, 0.8173429 ,\n",
       "        0.99412596, 0.6456302 , 0.56935716, 0.99999166, 0.65892357,\n",
       "        0.98143953, 0.57014036, 0.9457976 , 0.97892034, 0.99756026,\n",
       "        0.90293866, 0.9901473 , 0.9940882 , 0.9630838 , 0.93636286,\n",
       "        0.9801722 , 0.97397083, 0.91631305, 0.83228403, 0.9975921 ,\n",
       "        0.4005939 , 0.5666537 , 0.98244137, 0.99958545, 0.99758184,\n",
       "        0.9374112 , 0.9893805 , 0.934845  , 0.70556986, 0.98717463,\n",
       "        0.9732231 , 0.84026927, 0.9968892 , 0.95549   , 0.51011866,\n",
       "        0.97923434, 0.8606607 , 0.9657132 , 0.9839894 , 0.99428326,\n",
       "        0.98230183, 0.93808246, 0.9810932 , 0.97620696, 0.992363  ,\n",
       "        0.9728353 , 0.6112509 , 0.96916103, 0.9996742 , 0.75585   ,\n",
       "        0.39513418, 0.5178952 , 0.99710196, 0.8306675 , 0.9998605 ,\n",
       "        0.89753085, 0.9921841 , 0.7395849 , 0.9981205 , 0.93602645,\n",
       "        0.9790146 , 0.99983454, 0.9877152 , 0.9913564 , 0.98819333,\n",
       "        0.997626  , 0.79517215, 0.49850044, 0.9839204 , 0.9989536 ,\n",
       "        0.99831843, 0.97927696, 0.99599576, 0.8273555 , 0.9982212 ,\n",
       "        0.995159  , 0.9861179 , 0.9101498 , 0.5069024 , 0.96180063,\n",
       "        0.98029673, 0.989521  , 0.9613761 , 0.883229  , 0.78860253,\n",
       "        0.9877108 , 0.9998574 , 0.999987  , 0.9968405 , 0.9998553 ,\n",
       "        0.83429843, 0.8184679 , 0.99544585, 0.9996803 , 0.975066  ,\n",
       "        0.76161104, 0.94889045, 0.99344593, 0.99985754, 0.9864596 ,\n",
       "        0.8563825 , 0.46928477, 0.891777  , 0.8752206 , 0.8062258 ,\n",
       "        0.9987571 , 0.87715447, 0.9575607 , 0.7998553 , 0.98989934,\n",
       "        0.9301211 , 0.9978957 , 0.66423875, 0.5313276 , 0.9969902 ,\n",
       "        0.9995542 , 0.99279624, 0.660329  , 0.6623592 , 0.9883724 ,\n",
       "        0.4594787 , 0.9962191 , 0.9991264 , 0.98645693, 0.979446  ,\n",
       "        0.99048376, 0.9154691 , 0.8952756 , 0.974783  , 0.4843059 ,\n",
       "        0.9802002 , 0.96582496, 0.96815497, 0.96521944, 0.9881301 ,\n",
       "        0.599138  , 0.6964335 , 0.8393268 , 0.99970657, 0.9928022 ,\n",
       "        0.8737653 , 0.9874269 , 0.7329678 , 0.9065127 , 0.9963135 ,\n",
       "        0.8633009 , 0.9507556 , 0.9341036 , 0.88927233, 0.90808356,\n",
       "        0.9765411 ], dtype=float32)}"
      ]
     },
     "execution_count": 15,
     "metadata": {},
     "output_type": "execute_result"
    }
   ],
   "source": [
    "outs[0]"
   ]
  },
  {
   "cell_type": "markdown",
   "metadata": {},
   "source": [
    "visualize logs using tensorboard"
   ]
  },
  {
   "cell_type": "code",
   "execution_count": null,
   "metadata": {
    "execution": {
     "iopub.execute_input": "2022-12-19T08:34:43.784577Z",
     "iopub.status.busy": "2022-12-19T08:34:43.784517Z",
     "iopub.status.idle": "2022-12-19T08:34:44.415480Z",
     "shell.execute_reply": "2022-12-19T08:34:44.415030Z",
     "shell.execute_reply.started": "2022-12-19T08:34:43.784568Z"
    }
   },
   "outputs": [],
   "source": [
    "%reload_ext tensorboard\n",
    "%tensorboard --logdir=lightning_logs/"
   ]
  },
  {
   "cell_type": "code",
   "execution_count": null,
   "metadata": {},
   "outputs": [],
   "source": []
  },
  {
   "cell_type": "raw",
   "metadata": {
    "execution": {
     "iopub.execute_input": "2022-12-20T02:50:49.388558Z",
     "iopub.status.busy": "2022-12-20T02:50:49.388256Z",
     "iopub.status.idle": "2022-12-20T02:50:49.555508Z",
     "shell.execute_reply": "2022-12-20T02:50:49.553639Z",
     "shell.execute_reply.started": "2022-12-20T02:50:49.388534Z"
    },
    "tags": []
   },
   "source": [
    "!rm -rf lightning_logs/"
   ]
  },
  {
   "cell_type": "code",
   "execution_count": null,
   "metadata": {},
   "outputs": [],
   "source": []
  }
 ],
 "metadata": {
  "kernelspec": {
   "display_name": "ml_fasttext",
   "language": "python",
   "name": "python3"
  },
  "language_info": {
   "codemirror_mode": {
    "name": "ipython",
    "version": 3
   },
   "file_extension": ".py",
   "mimetype": "text/x-python",
   "name": "python",
   "nbconvert_exporter": "python",
   "pygments_lexer": "ipython3",
   "version": "3.9.12 | packaged by conda-forge | (main, Mar 24 2022, 23:25:14) \n[Clang 12.0.1 ]"
  },
  "vscode": {
   "interpreter": {
    "hash": "6c3fe96cabc72878c6f224e0a0456e3dff76243bb9f7fe337ace0cc6227985d0"
   }
  },
  "widgets": {
   "application/vnd.jupyter.widget-state+json": {
    "state": {
     "044d79e820ac4d20a716174b30d08fda": {
      "model_module": "@jupyter-widgets/base",
      "model_module_version": "1.2.0",
      "model_name": "LayoutModel",
      "state": {}
     },
     "04c1f64c370748249a400b9049627c6c": {
      "model_module": "@jupyter-widgets/base",
      "model_module_version": "1.2.0",
      "model_name": "LayoutModel",
      "state": {
       "flex": "2"
      }
     },
     "04f8fb8383174f47ab86647a3e027127": {
      "model_module": "@jupyter-widgets/controls",
      "model_module_version": "1.5.0",
      "model_name": "HTMLModel",
      "state": {
       "layout": "IPY_MODEL_bad76f75dd544e0dbeb4905ba40a80fd",
       "style": "IPY_MODEL_1a2089f44a974fa3830fc55ad570c23d",
       "value": " 30/30 [00:01&lt;00:00, 19.57it/s]"
      }
     },
     "06328d64ec8e46cb86c96980a08d8c19": {
      "model_module": "@jupyter-widgets/controls",
      "model_module_version": "1.5.0",
      "model_name": "DescriptionStyleModel",
      "state": {
       "description_width": ""
      }
     },
     "0962f7407d5d49cabd5ed15a2317add4": {
      "model_module": "@jupyter-widgets/base",
      "model_module_version": "1.2.0",
      "model_name": "LayoutModel",
      "state": {}
     },
     "0cb380dd6aad4c22b9ecc83bf5d40464": {
      "model_module": "@jupyter-widgets/controls",
      "model_module_version": "1.5.0",
      "model_name": "HBoxModel",
      "state": {
       "children": [
        "IPY_MODEL_4f4bf444a01b46faac3bdf065c1b0676",
        "IPY_MODEL_a5b205bb872c4fed8901742d4a00c4c2",
        "IPY_MODEL_04f8fb8383174f47ab86647a3e027127"
       ],
       "layout": "IPY_MODEL_73fa023a901b4054816edc7fad9c705e"
      }
     },
     "10f72537d6b14d61a65dba3518c3ad01": {
      "model_module": "@jupyter-widgets/controls",
      "model_module_version": "1.5.0",
      "model_name": "FloatProgressModel",
      "state": {
       "bar_style": "success",
       "layout": "IPY_MODEL_2e4f99bad2b2455ea2ff1ac08e250c92",
       "max": 30,
       "style": "IPY_MODEL_18abe46c217f4111bafb20ec4bb6b897",
       "value": 30
      }
     },
     "15d1537e0293461bb41e2bcb631aa530": {
      "model_module": "@jupyter-widgets/base",
      "model_module_version": "1.2.0",
      "model_name": "LayoutModel",
      "state": {
       "flex": "2"
      }
     },
     "180427baaaf14105b9eca88385adabb6": {
      "model_module": "@jupyter-widgets/base",
      "model_module_version": "1.2.0",
      "model_name": "LayoutModel",
      "state": {
       "display": "inline-flex",
       "flex_flow": "row wrap",
       "width": "100%"
      }
     },
     "188df0ef94eb42aabbde052d42d198e8": {
      "model_module": "@jupyter-widgets/base",
      "model_module_version": "1.2.0",
      "model_name": "LayoutModel",
      "state": {
       "flex": "2"
      }
     },
     "18abe46c217f4111bafb20ec4bb6b897": {
      "model_module": "@jupyter-widgets/controls",
      "model_module_version": "1.5.0",
      "model_name": "ProgressStyleModel",
      "state": {
       "description_width": ""
      }
     },
     "198bc529a29d4808a6e506e227ee051f": {
      "model_module": "@jupyter-widgets/controls",
      "model_module_version": "1.5.0",
      "model_name": "FloatProgressModel",
      "state": {
       "layout": "IPY_MODEL_04c1f64c370748249a400b9049627c6c",
       "max": 2,
       "style": "IPY_MODEL_9490da3750bc42c196e3dbd99ed9d059",
       "value": 2
      }
     },
     "1a2089f44a974fa3830fc55ad570c23d": {
      "model_module": "@jupyter-widgets/controls",
      "model_module_version": "1.5.0",
      "model_name": "DescriptionStyleModel",
      "state": {
       "description_width": ""
      }
     },
     "1a51329ee08c40d5a2768082108bb17c": {
      "model_module": "@jupyter-widgets/controls",
      "model_module_version": "1.5.0",
      "model_name": "FloatProgressModel",
      "state": {
       "bar_style": "success",
       "layout": "IPY_MODEL_acf8bf5069d7496bb967aea11144666b",
       "max": 2,
       "style": "IPY_MODEL_abf0fc04543e4d44becb4f300c65ebb5",
       "value": 2
      }
     },
     "294308e95e44493fae27bcf26773bc25": {
      "model_module": "@jupyter-widgets/controls",
      "model_module_version": "1.5.0",
      "model_name": "ProgressStyleModel",
      "state": {
       "description_width": ""
      }
     },
     "29d97487545b469a98b0695dcb59847a": {
      "model_module": "@jupyter-widgets/controls",
      "model_module_version": "1.5.0",
      "model_name": "DescriptionStyleModel",
      "state": {
       "description_width": ""
      }
     },
     "2e4f99bad2b2455ea2ff1ac08e250c92": {
      "model_module": "@jupyter-widgets/base",
      "model_module_version": "1.2.0",
      "model_name": "LayoutModel",
      "state": {
       "flex": "2"
      }
     },
     "3098e9aa49294b17aa8e7ae8f86f39c1": {
      "model_module": "@jupyter-widgets/controls",
      "model_module_version": "1.5.0",
      "model_name": "FloatProgressModel",
      "state": {
       "layout": "IPY_MODEL_d9efc08d43754a5eb71dadd144bf063b",
       "max": 30,
       "style": "IPY_MODEL_e699d85e18604fbbab085c8fde8ca4ec",
       "value": 30
      }
     },
     "4467be18b09343ac9edb0f548dfb552d": {
      "model_module": "@jupyter-widgets/base",
      "model_module_version": "1.2.0",
      "model_name": "LayoutModel",
      "state": {}
     },
     "4750e81e8c6b45d698ee4b09757c4fab": {
      "model_module": "@jupyter-widgets/base",
      "model_module_version": "1.2.0",
      "model_name": "LayoutModel",
      "state": {}
     },
     "4f4bf444a01b46faac3bdf065c1b0676": {
      "model_module": "@jupyter-widgets/controls",
      "model_module_version": "1.5.0",
      "model_name": "HTMLModel",
      "state": {
       "layout": "IPY_MODEL_ce1de09781f24e38a064a0f80b94f193",
       "style": "IPY_MODEL_dfcb067898bf4b7b9f13e350103669e4",
       "value": "Predicting DataLoader 0: 100%"
      }
     },
     "5279190888394a93b81e4736b7a23d51": {
      "model_module": "@jupyter-widgets/controls",
      "model_module_version": "1.5.0",
      "model_name": "DescriptionStyleModel",
      "state": {
       "description_width": ""
      }
     },
     "54ef9f08c2094f739f71ab2a00c086cf": {
      "model_module": "@jupyter-widgets/controls",
      "model_module_version": "1.5.0",
      "model_name": "HTMLModel",
      "state": {
       "layout": "IPY_MODEL_5c3f168fdfea41839befb5ef4b5e9bac",
       "style": "IPY_MODEL_29d97487545b469a98b0695dcb59847a",
       "value": " 2/2 [00:00&lt;00:00, 31.42it/s]"
      }
     },
     "5c3f168fdfea41839befb5ef4b5e9bac": {
      "model_module": "@jupyter-widgets/base",
      "model_module_version": "1.2.0",
      "model_name": "LayoutModel",
      "state": {}
     },
     "65210fe5b46f43eba9aa6468a62ac52b": {
      "model_module": "@jupyter-widgets/controls",
      "model_module_version": "1.5.0",
      "model_name": "ProgressStyleModel",
      "state": {
       "description_width": ""
      }
     },
     "65ce8ed38eb7418b9cb4c1d5fe02025a": {
      "model_module": "@jupyter-widgets/base",
      "model_module_version": "1.2.0",
      "model_name": "LayoutModel",
      "state": {}
     },
     "66098c4fb0aa49e395f1d86fb6c545fe": {
      "model_module": "@jupyter-widgets/controls",
      "model_module_version": "1.5.0",
      "model_name": "FloatProgressModel",
      "state": {
       "bar_style": "success",
       "layout": "IPY_MODEL_8fb3adb0ec62422ea165dc889a50eac8",
       "max": 499,
       "style": "IPY_MODEL_ece89a9a8f0e4f97870cc01e832ed9de",
       "value": 499
      }
     },
     "68981403c6994c45bdc2361c78fbc3f8": {
      "model_module": "@jupyter-widgets/controls",
      "model_module_version": "1.5.0",
      "model_name": "HTMLModel",
      "state": {
       "layout": "IPY_MODEL_65ce8ed38eb7418b9cb4c1d5fe02025a",
       "style": "IPY_MODEL_5279190888394a93b81e4736b7a23d51",
       "value": "Sanity Checking DataLoader 0: 100%"
      }
     },
     "73fa023a901b4054816edc7fad9c705e": {
      "model_module": "@jupyter-widgets/base",
      "model_module_version": "1.2.0",
      "model_name": "LayoutModel",
      "state": {
       "display": "inline-flex",
       "flex_flow": "row wrap",
       "width": "100%"
      }
     },
     "7838bf6de3014796a28f4c086cef81e5": {
      "model_module": "@jupyter-widgets/controls",
      "model_module_version": "1.5.0",
      "model_name": "DescriptionStyleModel",
      "state": {
       "description_width": ""
      }
     },
     "7a52fb0edc4842f98b0599b0bbaf2517": {
      "model_module": "@jupyter-widgets/base",
      "model_module_version": "1.2.0",
      "model_name": "LayoutModel",
      "state": {}
     },
     "7bf152d864f04214a84fd06757922d74": {
      "model_module": "@jupyter-widgets/base",
      "model_module_version": "1.2.0",
      "model_name": "LayoutModel",
      "state": {
       "display": "inline-flex",
       "flex_flow": "row wrap",
       "width": "100%"
      }
     },
     "7fc1d2d0d8ac4196b0299eaf144a5f72": {
      "model_module": "@jupyter-widgets/controls",
      "model_module_version": "1.5.0",
      "model_name": "DescriptionStyleModel",
      "state": {
       "description_width": ""
      }
     },
     "8366fb5c701a42059bf73057c6b66ec5": {
      "model_module": "@jupyter-widgets/controls",
      "model_module_version": "1.5.0",
      "model_name": "HTMLModel",
      "state": {
       "layout": "IPY_MODEL_0962f7407d5d49cabd5ed15a2317add4",
       "style": "IPY_MODEL_bb34bcb258954715b25e122dbe85817d",
       "value": " 2/2 [00:00&lt;00:00, 112.94it/s]"
      }
     },
     "87c4c4ed74de405fa56e0c013537c4ca": {
      "model_module": "@jupyter-widgets/base",
      "model_module_version": "1.2.0",
      "model_name": "LayoutModel",
      "state": {}
     },
     "89394198049a491a98c365c26c0623ec": {
      "model_module": "@jupyter-widgets/controls",
      "model_module_version": "1.5.0",
      "model_name": "HTMLModel",
      "state": {
       "layout": "IPY_MODEL_9830f604a6f94a2ab2f5c4071999487d",
       "style": "IPY_MODEL_8f5c71b42ffb4e04acd16c90bad5a8d7",
       "value": "Validation DataLoader 0: 100%"
      }
     },
     "8f5c71b42ffb4e04acd16c90bad5a8d7": {
      "model_module": "@jupyter-widgets/controls",
      "model_module_version": "1.5.0",
      "model_name": "DescriptionStyleModel",
      "state": {
       "description_width": ""
      }
     },
     "8fb3adb0ec62422ea165dc889a50eac8": {
      "model_module": "@jupyter-widgets/base",
      "model_module_version": "1.2.0",
      "model_name": "LayoutModel",
      "state": {
       "flex": "2"
      }
     },
     "9490da3750bc42c196e3dbd99ed9d059": {
      "model_module": "@jupyter-widgets/controls",
      "model_module_version": "1.5.0",
      "model_name": "ProgressStyleModel",
      "state": {
       "description_width": ""
      }
     },
     "951d24e3e59f4a21b3e6b82ca5e90071": {
      "model_module": "@jupyter-widgets/controls",
      "model_module_version": "1.5.0",
      "model_name": "DescriptionStyleModel",
      "state": {
       "description_width": ""
      }
     },
     "958e6b64f65142f1b26d6b653d8185c5": {
      "model_module": "@jupyter-widgets/controls",
      "model_module_version": "1.5.0",
      "model_name": "DescriptionStyleModel",
      "state": {
       "description_width": ""
      }
     },
     "9830f604a6f94a2ab2f5c4071999487d": {
      "model_module": "@jupyter-widgets/base",
      "model_module_version": "1.2.0",
      "model_name": "LayoutModel",
      "state": {}
     },
     "995f21eaf04943eaad8fe240f812c67d": {
      "model_module": "@jupyter-widgets/controls",
      "model_module_version": "1.5.0",
      "model_name": "HBoxModel",
      "state": {
       "children": [
        "IPY_MODEL_89394198049a491a98c365c26c0623ec",
        "IPY_MODEL_10f72537d6b14d61a65dba3518c3ad01",
        "IPY_MODEL_de62d5c738f245ffaf2fcc3a246602a5"
       ],
       "layout": "IPY_MODEL_7bf152d864f04214a84fd06757922d74"
      }
     },
     "9b56ba559e1f4226a27571b6430a3541": {
      "model_module": "@jupyter-widgets/controls",
      "model_module_version": "1.5.0",
      "model_name": "HTMLModel",
      "state": {
       "layout": "IPY_MODEL_87c4c4ed74de405fa56e0c013537c4ca",
       "style": "IPY_MODEL_06328d64ec8e46cb86c96980a08d8c19",
       "value": "Validation DataLoader 0: 100%"
      }
     },
     "9ec5ce9907224b03845311e93bad3bfd": {
      "model_module": "@jupyter-widgets/controls",
      "model_module_version": "1.5.0",
      "model_name": "DescriptionStyleModel",
      "state": {
       "description_width": ""
      }
     },
     "9f1140e89c564261b45e040ebe242fc4": {
      "model_module": "@jupyter-widgets/controls",
      "model_module_version": "1.5.0",
      "model_name": "HTMLModel",
      "state": {
       "layout": "IPY_MODEL_4750e81e8c6b45d698ee4b09757c4fab",
       "style": "IPY_MODEL_7fc1d2d0d8ac4196b0299eaf144a5f72",
       "value": "100%"
      }
     },
     "a5b205bb872c4fed8901742d4a00c4c2": {
      "model_module": "@jupyter-widgets/controls",
      "model_module_version": "1.5.0",
      "model_name": "FloatProgressModel",
      "state": {
       "bar_style": "success",
       "layout": "IPY_MODEL_15d1537e0293461bb41e2bcb631aa530",
       "max": 30,
       "style": "IPY_MODEL_65210fe5b46f43eba9aa6468a62ac52b",
       "value": 30
      }
     },
     "abf0fc04543e4d44becb4f300c65ebb5": {
      "model_module": "@jupyter-widgets/controls",
      "model_module_version": "1.5.0",
      "model_name": "ProgressStyleModel",
      "state": {
       "description_width": ""
      }
     },
     "acf8bf5069d7496bb967aea11144666b": {
      "model_module": "@jupyter-widgets/base",
      "model_module_version": "1.2.0",
      "model_name": "LayoutModel",
      "state": {}
     },
     "adeeffe94c0643a5bc20e677007c40da": {
      "model_module": "@jupyter-widgets/controls",
      "model_module_version": "1.5.0",
      "model_name": "HTMLModel",
      "state": {
       "layout": "IPY_MODEL_bb711dc62f7646718d8648ddddb6b418",
       "style": "IPY_MODEL_958e6b64f65142f1b26d6b653d8185c5",
       "value": "Epoch 1: 100%"
      }
     },
     "aea85b5052b7494284cdf5b023e9d209": {
      "model_module": "@jupyter-widgets/controls",
      "model_module_version": "1.5.0",
      "model_name": "DescriptionStyleModel",
      "state": {
       "description_width": ""
      }
     },
     "afb1af8e63bf471e90af6f38106acd8a": {
      "model_module": "@jupyter-widgets/controls",
      "model_module_version": "1.5.0",
      "model_name": "FloatProgressModel",
      "state": {
       "layout": "IPY_MODEL_188df0ef94eb42aabbde052d42d198e8",
       "max": 30,
       "style": "IPY_MODEL_294308e95e44493fae27bcf26773bc25",
       "value": 30
      }
     },
     "b33778ee6a0c4357a5f90f130c388a9a": {
      "model_module": "@jupyter-widgets/controls",
      "model_module_version": "1.5.0",
      "model_name": "HTMLModel",
      "state": {
       "layout": "IPY_MODEL_7a52fb0edc4842f98b0599b0bbaf2517",
       "style": "IPY_MODEL_951d24e3e59f4a21b3e6b82ca5e90071",
       "value": " 499/499 [00:32&lt;00:00, 15.34it/s, loss=0.23, v_num=1]"
      }
     },
     "bad76f75dd544e0dbeb4905ba40a80fd": {
      "model_module": "@jupyter-widgets/base",
      "model_module_version": "1.2.0",
      "model_name": "LayoutModel",
      "state": {}
     },
     "bb34bcb258954715b25e122dbe85817d": {
      "model_module": "@jupyter-widgets/controls",
      "model_module_version": "1.5.0",
      "model_name": "DescriptionStyleModel",
      "state": {
       "description_width": ""
      }
     },
     "bb711dc62f7646718d8648ddddb6b418": {
      "model_module": "@jupyter-widgets/base",
      "model_module_version": "1.2.0",
      "model_name": "LayoutModel",
      "state": {}
     },
     "bdbfe9d1083541308820f5d9ffa8aa7c": {
      "model_module": "@jupyter-widgets/controls",
      "model_module_version": "1.5.0",
      "model_name": "HBoxModel",
      "state": {
       "children": [
        "IPY_MODEL_adeeffe94c0643a5bc20e677007c40da",
        "IPY_MODEL_66098c4fb0aa49e395f1d86fb6c545fe",
        "IPY_MODEL_b33778ee6a0c4357a5f90f130c388a9a"
       ],
       "layout": "IPY_MODEL_180427baaaf14105b9eca88385adabb6"
      }
     },
     "be172f9fd30340c992c8410375cd7ff5": {
      "model_module": "@jupyter-widgets/base",
      "model_module_version": "1.2.0",
      "model_name": "LayoutModel",
      "state": {}
     },
     "c6a831427ff84a2c89784ce4115b9300": {
      "model_module": "@jupyter-widgets/controls",
      "model_module_version": "1.5.0",
      "model_name": "DescriptionStyleModel",
      "state": {
       "description_width": ""
      }
     },
     "c8dcff3997a54582a5061eacee54945d": {
      "model_module": "@jupyter-widgets/base",
      "model_module_version": "1.2.0",
      "model_name": "LayoutModel",
      "state": {}
     },
     "ca7ce82f8a3f43b2b1c6cd37638b53fa": {
      "model_module": "@jupyter-widgets/base",
      "model_module_version": "1.2.0",
      "model_name": "LayoutModel",
      "state": {
       "display": "inline-flex",
       "flex_flow": "row wrap",
       "width": "100%"
      }
     },
     "cb9a8aa5905b44acb7068aeb0ca3e2ab": {
      "model_module": "@jupyter-widgets/controls",
      "model_module_version": "1.5.0",
      "model_name": "HBoxModel",
      "state": {
       "children": [
        "IPY_MODEL_9f1140e89c564261b45e040ebe242fc4",
        "IPY_MODEL_1a51329ee08c40d5a2768082108bb17c",
        "IPY_MODEL_8366fb5c701a42059bf73057c6b66ec5"
       ],
       "layout": "IPY_MODEL_be172f9fd30340c992c8410375cd7ff5"
      }
     },
     "cbab153f190340558f2d48a7e21dd42d": {
      "model_module": "@jupyter-widgets/base",
      "model_module_version": "1.2.0",
      "model_name": "LayoutModel",
      "state": {}
     },
     "ccbe2c0f5f924fa3b8bc5816d3f5be4f": {
      "model_module": "@jupyter-widgets/controls",
      "model_module_version": "1.5.0",
      "model_name": "HTMLModel",
      "state": {
       "layout": "IPY_MODEL_4467be18b09343ac9edb0f548dfb552d",
       "style": "IPY_MODEL_aea85b5052b7494284cdf5b023e9d209",
       "value": " 30/30 [00:01&lt;00:00, 19.18it/s]"
      }
     },
     "ce1de09781f24e38a064a0f80b94f193": {
      "model_module": "@jupyter-widgets/base",
      "model_module_version": "1.2.0",
      "model_name": "LayoutModel",
      "state": {}
     },
     "d034a12c29c748f59b7dae4fec1b8324": {
      "model_module": "@jupyter-widgets/base",
      "model_module_version": "1.2.0",
      "model_name": "LayoutModel",
      "state": {
       "display": "inline-flex",
       "flex_flow": "row wrap",
       "width": "100%"
      }
     },
     "d9efc08d43754a5eb71dadd144bf063b": {
      "model_module": "@jupyter-widgets/base",
      "model_module_version": "1.2.0",
      "model_name": "LayoutModel",
      "state": {
       "flex": "2"
      }
     },
     "d9eff798c21a495aa8b6a65022198bcc": {
      "model_module": "@jupyter-widgets/controls",
      "model_module_version": "1.5.0",
      "model_name": "HTMLModel",
      "state": {
       "layout": "IPY_MODEL_cbab153f190340558f2d48a7e21dd42d",
       "style": "IPY_MODEL_9ec5ce9907224b03845311e93bad3bfd",
       "value": "Validation DataLoader 0: 100%"
      }
     },
     "de62d5c738f245ffaf2fcc3a246602a5": {
      "model_module": "@jupyter-widgets/controls",
      "model_module_version": "1.5.0",
      "model_name": "HTMLModel",
      "state": {
       "layout": "IPY_MODEL_044d79e820ac4d20a716174b30d08fda",
       "style": "IPY_MODEL_c6a831427ff84a2c89784ce4115b9300",
       "value": " 30/30 [00:01&lt;00:00, 17.94it/s]"
      }
     },
     "dfcb067898bf4b7b9f13e350103669e4": {
      "model_module": "@jupyter-widgets/controls",
      "model_module_version": "1.5.0",
      "model_name": "DescriptionStyleModel",
      "state": {
       "description_width": ""
      }
     },
     "e699d85e18604fbbab085c8fde8ca4ec": {
      "model_module": "@jupyter-widgets/controls",
      "model_module_version": "1.5.0",
      "model_name": "ProgressStyleModel",
      "state": {
       "description_width": ""
      }
     },
     "ec6fed23e619474cae99d1532baf7329": {
      "model_module": "@jupyter-widgets/base",
      "model_module_version": "1.2.0",
      "model_name": "LayoutModel",
      "state": {
       "display": "inline-flex",
       "flex_flow": "row wrap",
       "width": "100%"
      }
     },
     "ece89a9a8f0e4f97870cc01e832ed9de": {
      "model_module": "@jupyter-widgets/controls",
      "model_module_version": "1.5.0",
      "model_name": "ProgressStyleModel",
      "state": {
       "description_width": ""
      }
     },
     "ee0cd13557894eeca70c0419be9b0a77": {
      "model_module": "@jupyter-widgets/controls",
      "model_module_version": "1.5.0",
      "model_name": "HTMLModel",
      "state": {
       "layout": "IPY_MODEL_c8dcff3997a54582a5061eacee54945d",
       "style": "IPY_MODEL_7838bf6de3014796a28f4c086cef81e5",
       "value": " 30/30 [00:01&lt;00:00, 19.40it/s]"
      }
     }
    },
    "version_major": 2,
    "version_minor": 0
   }
  }
 },
 "nbformat": 4,
 "nbformat_minor": 4
}
