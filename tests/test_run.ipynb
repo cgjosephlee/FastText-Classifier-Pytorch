{
 "cells": [
  {
   "cell_type": "raw",
   "metadata": {
    "tags": []
   },
   "source": [
    "%env PYTORCH_ENABLE_MPS_FALLBACK"
   ]
  },
  {
   "cell_type": "code",
   "execution_count": 1,
   "metadata": {
    "tags": []
   },
   "outputs": [
    {
     "name": "stderr",
     "output_type": "stream",
     "text": [
      "/usr/local/Caskroom/miniconda/base/envs/ml_fasttext/lib/python3.9/site-packages/tqdm/auto.py:22: TqdmWarning: IProgress not found. Please update jupyter and ipywidgets. See https://ipywidgets.readthedocs.io/en/stable/user_install.html\n",
      "  from .autonotebook import tqdm as notebook_tqdm\n"
     ]
    }
   ],
   "source": [
    "from fasttext_classifier.model import FastTextClassifier, FastTextClassifierConfig\n",
    "from fasttext_classifier.encoder import FastTextEncoder\n",
    "import torch\n",
    "from datasets import load_dataset\n",
    "from torch.utils.data import DataLoader\n",
    "from pytorch_lightning import loggers as pl_loggers\n",
    "from pytorch_lightning import Trainer"
   ]
  },
  {
   "cell_type": "code",
   "execution_count": 2,
   "metadata": {
    "tags": []
   },
   "outputs": [
    {
     "name": "stderr",
     "output_type": "stream",
     "text": [
      "Found cached dataset ag_news (/Users/josephlee/.cache/huggingface/datasets/ag_news/default/0.0.0/bc2bcb40336ace1a0374767fc29bb0296cdaf8a6da7298436239c54d79180548)\n",
      "100%|█████████████████████████████████████████████████████████████████████████████████████████████████████████████████████████████████████████████████| 2/2 [00:00<00:00, 196.69it/s]\n"
     ]
    }
   ],
   "source": [
    "dataset_name = \"ag_news\"\n",
    "dataset = load_dataset(dataset_name)"
   ]
  },
  {
   "cell_type": "code",
   "execution_count": 3,
   "metadata": {},
   "outputs": [
    {
     "data": {
      "text/plain": [
       "DatasetDict({\n",
       "    train: Dataset({\n",
       "        features: ['text', 'label'],\n",
       "        num_rows: 120000\n",
       "    })\n",
       "    test: Dataset({\n",
       "        features: ['text', 'label'],\n",
       "        num_rows: 7600\n",
       "    })\n",
       "})"
      ]
     },
     "execution_count": 3,
     "metadata": {},
     "output_type": "execute_result"
    }
   ],
   "source": [
    "dataset"
   ]
  },
  {
   "cell_type": "code",
   "execution_count": 4,
   "metadata": {
    "tags": []
   },
   "outputs": [],
   "source": [
    "config = FastTextClassifierConfig(\n",
    "    num_classes=4,\n",
    "    batch_size=256,\n",
    "    lr=0.5,\n",
    "    min_n=2,\n",
    "    max_n=6,\n",
    "    word_ngrams=2,\n",
    "    dim=10,\n",
    "    bucket=10000,\n",
    ")"
   ]
  },
  {
   "cell_type": "markdown",
   "metadata": {},
   "source": [
    "initialize tokenizer"
   ]
  },
  {
   "cell_type": "code",
   "execution_count": 5,
   "metadata": {
    "tags": []
   },
   "outputs": [],
   "source": [
    "def _tokenize(s):\n",
    "    return s.split()\n",
    "\n",
    "def collate_batch(batch):\n",
    "    label_list = torch.LongTensor([x[\"label\"] for x in batch])\n",
    "    out = tokenizer(\n",
    "        [_tokenize(x[\"text\"]) for x in batch], return_tensors=\"pt\", ft_mode=True\n",
    "    )\n",
    "    # input_ids = out[\"input_ids\"]\n",
    "    return {\n",
    "        \"label\": label_list,\n",
    "        \"input_ids\": out[\"input_ids\"]\n",
    "    }"
   ]
  },
  {
   "cell_type": "code",
   "execution_count": 6,
   "metadata": {},
   "outputs": [],
   "source": [
    "tokenizer = FastTextEncoder([_tokenize(x) for x in dataset[\"train\"][\"text\"]], config=config)"
   ]
  },
  {
   "cell_type": "code",
   "execution_count": 7,
   "metadata": {},
   "outputs": [],
   "source": [
    "config.vocab_size = tokenizer.vocab_size"
   ]
  },
  {
   "cell_type": "code",
   "execution_count": 8,
   "metadata": {
    "tags": []
   },
   "outputs": [],
   "source": [
    "trainloader = DataLoader(\n",
    "    dataset[\"train\"], batch_size=config.batch_size, shuffle=False, collate_fn=collate_batch\n",
    ")\n",
    "testloader = DataLoader(\n",
    "    dataset[\"test\"], batch_size=config.batch_size, shuffle=False, collate_fn=collate_batch\n",
    ")"
   ]
  },
  {
   "cell_type": "code",
   "execution_count": null,
   "metadata": {},
   "outputs": [],
   "source": []
  },
  {
   "cell_type": "code",
   "execution_count": 16,
   "metadata": {
    "tags": []
   },
   "outputs": [],
   "source": [
    "model = FastTextClassifier(config)"
   ]
  },
  {
   "cell_type": "code",
   "execution_count": null,
   "metadata": {},
   "outputs": [],
   "source": []
  },
  {
   "cell_type": "code",
   "execution_count": 17,
   "metadata": {},
   "outputs": [],
   "source": [
    "from pytorch_lightning.callbacks import LearningRateMonitor\n",
    "lr_monitor = LearningRateMonitor(logging_interval='step')"
   ]
  },
  {
   "cell_type": "code",
   "execution_count": 18,
   "metadata": {
    "tags": []
   },
   "outputs": [
    {
     "name": "stderr",
     "output_type": "stream",
     "text": [
      "GPU available: False, used: False\n",
      "TPU available: False, using: 0 TPU cores\n",
      "IPU available: False, using: 0 IPUs\n",
      "HPU available: False, using: 0 HPUs\n"
     ]
    }
   ],
   "source": [
    "trainer = Trainer(\n",
    "    logger=[pl_loggers.TensorBoardLogger(save_dir=\"./\"), pl_loggers.CSVLogger(save_dir=\"./\")],\n",
    "    accelerator=\"cpu\",\n",
    "    max_steps=100,\n",
    "    # max_epochs=2,\n",
    "    # callbacks=[lr_monitor]\n",
    ")"
   ]
  },
  {
   "cell_type": "code",
   "execution_count": 19,
   "metadata": {
    "tags": []
   },
   "outputs": [
    {
     "name": "stderr",
     "output_type": "stream",
     "text": [
      "\n",
      "  | Name       | Type                | Params\n",
      "---------------------------------------------------\n",
      "0 | criterion  | CrossEntropyLoss    | 0     \n",
      "1 | embedding  | Embedding           | 2.0 M \n",
      "2 | fc1        | Linear              | 44    \n",
      "3 | val_acc    | MulticlassAccuracy  | 0     \n",
      "4 | val_prec   | MulticlassPrecision | 0     \n",
      "5 | val_recall | MulticlassRecall    | 0     \n",
      "6 | val_f1     | MulticlassF1Score   | 0     \n",
      "---------------------------------------------------\n",
      "2.0 M     Trainable params\n",
      "0         Non-trainable params\n",
      "2.0 M     Total params\n",
      "7.925     Total estimated model params size (MB)\n"
     ]
    },
    {
     "name": "stdout",
     "output_type": "stream",
     "text": [
      "Epoch 0:  20%|██████████████████████▊                                                                                           | 100/499 [00:11<00:44,  8.93it/s, loss=1.6, v_num=4]"
     ]
    },
    {
     "name": "stderr",
     "output_type": "stream",
     "text": [
      "`Trainer.fit` stopped: `max_steps=100` reached.\n"
     ]
    },
    {
     "name": "stdout",
     "output_type": "stream",
     "text": [
      "Epoch 0:  20%|██████████████████████▊                                                                                           | 100/499 [00:11<00:44,  8.90it/s, loss=1.6, v_num=4]\n"
     ]
    }
   ],
   "source": [
    "trainer.fit(model, trainloader, testloader)"
   ]
  },
  {
   "cell_type": "code",
   "execution_count": 20,
   "metadata": {
    "tags": []
   },
   "outputs": [
    {
     "name": "stdout",
     "output_type": "stream",
     "text": [
      "Validation DataLoader 0: 100%|███████████████████████████████████████████████████████████████████████████████████████████████████████████████████████| 30/30 [00:02<00:00, 11.70it/s]\n",
      "────────────────────────────────────────────────────────────────────────────────────────────────────────────────────────\n",
      "     Validate metric           DataLoader 0\n",
      "────────────────────────────────────────────────────────────────────────────────────────────────────────────────────────\n",
      "        eval:acc                   0.25\n",
      "      eval:f1score          0.10000000149011612\n",
      "     eval:precision               0.0625\n",
      "       eval:recall                 0.25\n",
      "────────────────────────────────────────────────────────────────────────────────────────────────────────────────────────\n"
     ]
    },
    {
     "data": {
      "text/plain": [
       "[{'eval:acc': 0.25,\n",
       "  'eval:precision': 0.0625,\n",
       "  'eval:recall': 0.25,\n",
       "  'eval:f1score': 0.10000000149011612}]"
      ]
     },
     "execution_count": 20,
     "metadata": {},
     "output_type": "execute_result"
    }
   ],
   "source": [
    "trainer.validate(model, testloader)"
   ]
  },
  {
   "cell_type": "raw",
   "metadata": {
    "execution": {
     "iopub.execute_input": "2022-12-19T10:31:14.440752Z",
     "iopub.status.busy": "2022-12-19T10:31:14.440452Z",
     "iopub.status.idle": "2022-12-19T10:31:16.112245Z",
     "shell.execute_reply": "2022-12-19T10:31:16.111993Z",
     "shell.execute_reply.started": "2022-12-19T10:31:14.440726Z"
    },
    "tags": []
   },
   "source": [
    "trainer.test(model, testloader)"
   ]
  },
  {
   "cell_type": "code",
   "execution_count": 14,
   "metadata": {
    "tags": []
   },
   "outputs": [
    {
     "name": "stderr",
     "output_type": "stream",
     "text": [
      "/usr/local/Caskroom/miniconda/base/envs/ml_fasttext/lib/python3.9/site-packages/pytorch_lightning/trainer/connectors/data_connector.py:224: PossibleUserWarning: The dataloader, predict_dataloader 0, does not have many workers which may be a bottleneck. Consider increasing the value of the `num_workers` argument` (try 16 which is the number of cpus on this machine) in the `DataLoader` init to improve performance.\n",
      "  rank_zero_warn(\n"
     ]
    },
    {
     "name": "stdout",
     "output_type": "stream",
     "text": [
      "Predicting DataLoader 0: 100%|███████████████████████████████████████████████████████████████████████████████████████████████████████████████████████| 30/30 [00:02<00:00, 11.82it/s]\n"
     ]
    }
   ],
   "source": [
    "outs = trainer.predict(model, testloader)"
   ]
  },
  {
   "cell_type": "code",
   "execution_count": 15,
   "metadata": {
    "tags": []
   },
   "outputs": [
    {
     "data": {
      "text/plain": [
       "{'label': array([3, 3, 3, 3, 3, 3, 3, 3, 3, 3, 3, 3, 3, 3, 3, 3, 3, 3, 3, 3, 3, 3,\n",
       "        3, 3, 3, 3, 3, 3, 3, 3, 3, 3, 3, 3, 3, 3, 3, 3, 3, 3, 3, 3, 3, 3,\n",
       "        3, 3, 3, 3, 3, 3, 3, 3, 3, 3, 3, 3, 3, 3, 3, 3, 3, 3, 3, 3, 3, 3,\n",
       "        3, 3, 3, 3, 3, 3, 3, 3, 3, 3, 3, 3, 3, 3, 3, 3, 3, 3, 3, 3, 3, 3,\n",
       "        3, 3, 3, 3, 3, 3, 3, 3, 3, 3, 3, 3, 3, 3, 3, 3, 3, 3, 3, 3, 3, 3,\n",
       "        3, 3, 3, 3, 3, 3, 3, 3, 3, 3, 3, 3, 3, 3, 3, 3, 3, 3, 3, 3, 3, 3,\n",
       "        3, 3, 3, 3, 3, 3, 3, 3, 3, 3, 3, 3, 3, 3, 3, 3, 3, 3, 3, 3, 3, 3,\n",
       "        3, 3, 3, 3, 3, 3, 3, 3, 3, 3, 3, 3, 3, 3, 3, 3, 3, 3, 3, 3, 3, 3,\n",
       "        3, 3, 3, 3, 3, 3, 3, 3, 3, 3, 3, 3, 3, 3, 3, 3, 3, 3, 3, 3, 3, 3,\n",
       "        3, 3, 3, 3, 3, 3, 3, 3, 3, 3, 3, 3, 3, 3, 3, 3, 3, 3, 3, 3, 3, 3,\n",
       "        3, 3, 3, 3, 3, 3, 3, 3, 3, 3, 3, 3, 3, 3, 3, 3, 3, 3, 3, 3, 3, 3,\n",
       "        3, 3, 3, 3, 3, 3, 3, 3, 3, 3, 3, 3, 3, 3]),\n",
       " 'score': array([0.5766617 , 0.5762534 , 0.5765954 , 0.5762476 , 0.5763752 ,\n",
       "        0.57538366, 0.575661  , 0.5753223 , 0.57679564, 0.5764845 ,\n",
       "        0.5764275 , 0.5764759 , 0.5765053 , 0.5766898 , 0.57676935,\n",
       "        0.5766849 , 0.5766229 , 0.5765574 , 0.57641697, 0.5768642 ,\n",
       "        0.57678795, 0.5768033 , 0.57686126, 0.5764731 , 0.57646906,\n",
       "        0.5768088 , 0.57636076, 0.5762022 , 0.57603014, 0.57601464,\n",
       "        0.57633686, 0.57631165, 0.5762893 , 0.5761132 , 0.5760241 ,\n",
       "        0.5759031 , 0.5765493 , 0.57642853, 0.57602096, 0.5760931 ,\n",
       "        0.57616204, 0.5762543 , 0.57601875, 0.57646596, 0.5760521 ,\n",
       "        0.5763436 , 0.57586414, 0.57635915, 0.5761792 , 0.576455  ,\n",
       "        0.5762586 , 0.5758893 , 0.57624865, 0.5766799 , 0.57633203,\n",
       "        0.5766375 , 0.57637024, 0.57615995, 0.5763244 , 0.5761799 ,\n",
       "        0.57631993, 0.57652175, 0.57565236, 0.5766145 , 0.5762555 ,\n",
       "        0.5767107 , 0.57622164, 0.57637334, 0.5763941 , 0.5761932 ,\n",
       "        0.5766979 , 0.5764147 , 0.5765865 , 0.576796  , 0.5764046 ,\n",
       "        0.57642937, 0.57597864, 0.57655627, 0.57625747, 0.57662326,\n",
       "        0.57604223, 0.5764693 , 0.57625675, 0.5765195 , 0.5759618 ,\n",
       "        0.5764203 , 0.57648736, 0.57606524, 0.5753051 , 0.5762897 ,\n",
       "        0.57608676, 0.57678074, 0.5766851 , 0.57664275, 0.5763142 ,\n",
       "        0.57621497, 0.5762748 , 0.5763529 , 0.5761703 , 0.5762562 ,\n",
       "        0.5759529 , 0.5765483 , 0.57629246, 0.576769  , 0.57592523,\n",
       "        0.57608014, 0.5761479 , 0.57651263, 0.5762379 , 0.5767193 ,\n",
       "        0.57659066, 0.5765955 , 0.57676685, 0.57669437, 0.5762514 ,\n",
       "        0.5764814 , 0.5767396 , 0.57635003, 0.5764483 , 0.57626   ,\n",
       "        0.576364  , 0.5763754 , 0.57668406, 0.5763658 , 0.5763764 ,\n",
       "        0.5766736 , 0.57666665, 0.5765058 , 0.57612336, 0.5762603 ,\n",
       "        0.57600695, 0.5760306 , 0.5764947 , 0.57666993, 0.5764358 ,\n",
       "        0.5759066 , 0.57659423, 0.5761063 , 0.57597065, 0.57649904,\n",
       "        0.57628095, 0.57646245, 0.5761071 , 0.576038  , 0.5762995 ,\n",
       "        0.5766283 , 0.5763651 , 0.57631665, 0.5761449 , 0.57583475,\n",
       "        0.5765434 , 0.5761207 , 0.5764089 , 0.57602173, 0.5767537 ,\n",
       "        0.5767439 , 0.5762463 , 0.5759088 , 0.57597256, 0.57602984,\n",
       "        0.5764941 , 0.5766031 , 0.5764833 , 0.57613176, 0.57613105,\n",
       "        0.5765752 , 0.5761584 , 0.57662874, 0.57607317, 0.57642406,\n",
       "        0.57613164, 0.57635915, 0.57656586, 0.5764017 , 0.57625103,\n",
       "        0.5759843 , 0.5766859 , 0.5763352 , 0.5763225 , 0.576334  ,\n",
       "        0.57627773, 0.5766072 , 0.5766326 , 0.57660145, 0.5759121 ,\n",
       "        0.5763092 , 0.57660943, 0.576396  , 0.576359  , 0.5767513 ,\n",
       "        0.5765904 , 0.57620555, 0.5761306 , 0.5766484 , 0.57640034,\n",
       "        0.5764436 , 0.5766002 , 0.57624805, 0.5764215 , 0.5761107 ,\n",
       "        0.5758639 , 0.5768273 , 0.57658094, 0.57618654, 0.576339  ,\n",
       "        0.5761756 , 0.5765894 , 0.5762728 , 0.5765779 , 0.57601327,\n",
       "        0.57585263, 0.57610166, 0.57643753, 0.57619053, 0.5762579 ,\n",
       "        0.5761124 , 0.57671577, 0.5764413 , 0.5766878 , 0.57636493,\n",
       "        0.5760576 , 0.57637525, 0.57670116, 0.5760645 , 0.57655793,\n",
       "        0.5762164 , 0.5763382 , 0.5762191 , 0.57662094, 0.57625127,\n",
       "        0.57610255, 0.57613754, 0.5764511 , 0.57663554, 0.576566  ,\n",
       "        0.5765311 , 0.57654554, 0.5765285 , 0.5763933 , 0.57666326,\n",
       "        0.5767032 , 0.576502  , 0.5765731 , 0.57619596, 0.57645476,\n",
       "        0.5766193 , 0.576734  , 0.57666534, 0.5765956 , 0.576372  ,\n",
       "        0.57630783, 0.57673657, 0.5763601 , 0.57599485, 0.5765811 ,\n",
       "        0.5762412 ], dtype=float32)}"
      ]
     },
     "execution_count": 15,
     "metadata": {},
     "output_type": "execute_result"
    }
   ],
   "source": [
    "outs[0]"
   ]
  },
  {
   "cell_type": "code",
   "execution_count": null,
   "metadata": {},
   "outputs": [],
   "source": []
  },
  {
   "cell_type": "raw",
   "metadata": {
    "execution": {
     "iopub.execute_input": "2022-12-19T08:34:43.784577Z",
     "iopub.status.busy": "2022-12-19T08:34:43.784517Z",
     "iopub.status.idle": "2022-12-19T08:34:44.415480Z",
     "shell.execute_reply": "2022-12-19T08:34:44.415030Z",
     "shell.execute_reply.started": "2022-12-19T08:34:43.784568Z"
    }
   },
   "source": [
    "%reload_ext tensorboard\n",
    "%tensorboard --logdir=lightning_logs/"
   ]
  },
  {
   "cell_type": "code",
   "execution_count": null,
   "metadata": {},
   "outputs": [],
   "source": []
  },
  {
   "cell_type": "raw",
   "metadata": {
    "execution": {
     "iopub.execute_input": "2022-12-19T08:35:03.686696Z",
     "iopub.status.busy": "2022-12-19T08:35:03.686353Z",
     "iopub.status.idle": "2022-12-19T08:35:03.847152Z",
     "shell.execute_reply": "2022-12-19T08:35:03.844836Z",
     "shell.execute_reply.started": "2022-12-19T08:35:03.686660Z"
    },
    "tags": []
   },
   "source": [
    "!rm -rf lightning_logs/"
   ]
  },
  {
   "cell_type": "code",
   "execution_count": null,
   "metadata": {},
   "outputs": [],
   "source": []
  }
 ],
 "metadata": {
  "kernelspec": {
   "display_name": "Python [conda env:ml_fasttext]",
   "language": "python",
   "name": "conda-env-ml_fasttext-py"
  },
  "language_info": {
   "codemirror_mode": {
    "name": "ipython",
    "version": 3
   },
   "file_extension": ".py",
   "mimetype": "text/x-python",
   "name": "python",
   "nbconvert_exporter": "python",
   "pygments_lexer": "ipython3",
   "version": "3.9.15"
  },
  "vscode": {
   "interpreter": {
    "hash": "6c3fe96cabc72878c6f224e0a0456e3dff76243bb9f7fe337ace0cc6227985d0"
   }
  },
  "widgets": {
   "application/vnd.jupyter.widget-state+json": {
    "state": {
     "016ddc6d1d1748de80982a936e638d7d": {
      "model_module": "@jupyter-widgets/controls",
      "model_module_version": "1.5.0",
      "model_name": "HTMLModel",
      "state": {
       "layout": "IPY_MODEL_c050424bbd4f4cddb26382a268485990",
       "style": "IPY_MODEL_b888d23917b24ce4a8aab148753f5eec",
       "value": "100%"
      }
     },
     "043839e1293e4d008890d50fe8247e1d": {
      "model_module": "@jupyter-widgets/base",
      "model_module_version": "1.2.0",
      "model_name": "LayoutModel",
      "state": {}
     },
     "0612a008f38e446a981aa3358ea78c36": {
      "model_module": "@jupyter-widgets/controls",
      "model_module_version": "1.5.0",
      "model_name": "DescriptionStyleModel",
      "state": {
       "description_width": ""
      }
     },
     "0664afc023fd47c39495738125587f70": {
      "model_module": "@jupyter-widgets/controls",
      "model_module_version": "1.5.0",
      "model_name": "HTMLModel",
      "state": {
       "layout": "IPY_MODEL_45444331bfa7474681d35acdfeb82ec5",
       "style": "IPY_MODEL_d9e6e333cb784cd2b6c11f2b8e65ef97",
       "value": " 30/30 [00:01&lt;00:00, 19.35it/s]"
      }
     },
     "06c3bce71d0b4fde9f436953effceaa0": {
      "model_module": "@jupyter-widgets/controls",
      "model_module_version": "1.5.0",
      "model_name": "ProgressStyleModel",
      "state": {
       "description_width": ""
      }
     },
     "084bb55f5f444e648d372ce337653c33": {
      "model_module": "@jupyter-widgets/base",
      "model_module_version": "1.2.0",
      "model_name": "LayoutModel",
      "state": {}
     },
     "09c395f2c92942af88feebf137e78008": {
      "model_module": "@jupyter-widgets/base",
      "model_module_version": "1.2.0",
      "model_name": "LayoutModel",
      "state": {
       "display": "inline-flex",
       "flex_flow": "row wrap",
       "width": "100%"
      }
     },
     "0c0a994c05a44f37b092c438bf5c5da9": {
      "model_module": "@jupyter-widgets/controls",
      "model_module_version": "1.5.0",
      "model_name": "FloatProgressModel",
      "state": {
       "bar_style": "success",
       "layout": "IPY_MODEL_5a31e859370c412b8f1bd9d571f4b439",
       "max": 30,
       "style": "IPY_MODEL_913dea7c718c4af29b3761140ae2e197",
       "value": 30
      }
     },
     "117760f622764afeb24667011eb2ada3": {
      "model_module": "@jupyter-widgets/base",
      "model_module_version": "1.2.0",
      "model_name": "LayoutModel",
      "state": {}
     },
     "19c91b20daca455cbf0eddbc10183b34": {
      "model_module": "@jupyter-widgets/controls",
      "model_module_version": "1.5.0",
      "model_name": "DescriptionStyleModel",
      "state": {
       "description_width": ""
      }
     },
     "20a3bd1e70d8425fbc7e44f6404b5cb9": {
      "model_module": "@jupyter-widgets/controls",
      "model_module_version": "1.5.0",
      "model_name": "HTMLModel",
      "state": {
       "layout": "IPY_MODEL_4e571fdcacff4dffac269c418fb8db45",
       "style": "IPY_MODEL_0612a008f38e446a981aa3358ea78c36",
       "value": " 30/30 [00:01&lt;00:00, 19.31it/s]"
      }
     },
     "24ddeba25f1b48b0a90a41ad8b9d5060": {
      "model_module": "@jupyter-widgets/controls",
      "model_module_version": "1.5.0",
      "model_name": "HTMLModel",
      "state": {
       "layout": "IPY_MODEL_eb4a1459585e4783a526d79328fca9a1",
       "style": "IPY_MODEL_642fb2e3c2dd4104bae9f64127007b66",
       "value": "Validation DataLoader 0: 100%"
      }
     },
     "25349cc324ce4798b519dd34f43dc840": {
      "model_module": "@jupyter-widgets/base",
      "model_module_version": "1.2.0",
      "model_name": "LayoutModel",
      "state": {
       "display": "inline-flex",
       "flex_flow": "row wrap",
       "width": "100%"
      }
     },
     "272dcfdc01944131a06e4077d8b3a22d": {
      "model_module": "@jupyter-widgets/base",
      "model_module_version": "1.2.0",
      "model_name": "LayoutModel",
      "state": {
       "flex": "2"
      }
     },
     "27fcdd9a75b74b76ae81ab356a528bc6": {
      "model_module": "@jupyter-widgets/base",
      "model_module_version": "1.2.0",
      "model_name": "LayoutModel",
      "state": {}
     },
     "294d0281bd2647cabb9c8c210761686f": {
      "model_module": "@jupyter-widgets/controls",
      "model_module_version": "1.5.0",
      "model_name": "DescriptionStyleModel",
      "state": {
       "description_width": ""
      }
     },
     "2ded979116114e84a7cfc7b5bf71aa1d": {
      "model_module": "@jupyter-widgets/base",
      "model_module_version": "1.2.0",
      "model_name": "LayoutModel",
      "state": {}
     },
     "321c4016698e4f9da7c36909dca3dbb8": {
      "model_module": "@jupyter-widgets/controls",
      "model_module_version": "1.5.0",
      "model_name": "DescriptionStyleModel",
      "state": {
       "description_width": ""
      }
     },
     "3a9eab591a53467bb2c34d45b42e2441": {
      "model_module": "@jupyter-widgets/controls",
      "model_module_version": "1.5.0",
      "model_name": "HTMLModel",
      "state": {
       "layout": "IPY_MODEL_043839e1293e4d008890d50fe8247e1d",
       "style": "IPY_MODEL_fb8138b8930d4b9da28a5b5e26218f73",
       "value": " 30/30 [00:01&lt;00:00, 19.27it/s]"
      }
     },
     "3e98b98f8a534535b272e0851e9b8cc0": {
      "model_module": "@jupyter-widgets/controls",
      "model_module_version": "1.5.0",
      "model_name": "HTMLModel",
      "state": {
       "layout": "IPY_MODEL_e9ab473e7a354455ab3af44f9a97ff4f",
       "style": "IPY_MODEL_19c91b20daca455cbf0eddbc10183b34",
       "value": " 499/499 [00:32&lt;00:00, 15.44it/s, loss=0.206, v_num=1]"
      }
     },
     "4540968a926c4ddf8c533fbccfd1ea69": {
      "model_module": "@jupyter-widgets/controls",
      "model_module_version": "1.5.0",
      "model_name": "HTMLModel",
      "state": {
       "layout": "IPY_MODEL_9aaf2c77cce44a6f87aa721b4ff344f1",
       "style": "IPY_MODEL_9f0644be27904816881d9f7770e6e84f",
       "value": "Validation DataLoader 0: 100%"
      }
     },
     "45444331bfa7474681d35acdfeb82ec5": {
      "model_module": "@jupyter-widgets/base",
      "model_module_version": "1.2.0",
      "model_name": "LayoutModel",
      "state": {}
     },
     "48c47640322b4f13826060dff8547e5c": {
      "model_module": "@jupyter-widgets/base",
      "model_module_version": "1.2.0",
      "model_name": "LayoutModel",
      "state": {}
     },
     "4e571fdcacff4dffac269c418fb8db45": {
      "model_module": "@jupyter-widgets/base",
      "model_module_version": "1.2.0",
      "model_name": "LayoutModel",
      "state": {}
     },
     "4e586a9402dd4ed59c205be8cc6bd397": {
      "model_module": "@jupyter-widgets/controls",
      "model_module_version": "1.5.0",
      "model_name": "HBoxModel",
      "state": {
       "children": [
        "IPY_MODEL_a6c25d9b43e6456583e5bda32aafcfeb",
        "IPY_MODEL_0c0a994c05a44f37b092c438bf5c5da9",
        "IPY_MODEL_20a3bd1e70d8425fbc7e44f6404b5cb9"
       ],
       "layout": "IPY_MODEL_99096246a81a4ea08a233b563a7c4dd2"
      }
     },
     "4f8f6ab56953477fa07e932c0462fe90": {
      "model_module": "@jupyter-widgets/controls",
      "model_module_version": "1.5.0",
      "model_name": "ProgressStyleModel",
      "state": {
       "description_width": ""
      }
     },
     "5184ff05147a499bb5731d5416ac7d68": {
      "model_module": "@jupyter-widgets/controls",
      "model_module_version": "1.5.0",
      "model_name": "ProgressStyleModel",
      "state": {
       "description_width": ""
      }
     },
     "5299f7067ad445dd9ed166f146bcb025": {
      "model_module": "@jupyter-widgets/controls",
      "model_module_version": "1.5.0",
      "model_name": "HBoxModel",
      "state": {
       "children": [
        "IPY_MODEL_7b3f25d70a8e4d2792f79a2b21ba3fbe",
        "IPY_MODEL_dd52628a93f4438db2e361c23a7a3b96",
        "IPY_MODEL_c6031d520c054423bf77880fc123ce33"
       ],
       "layout": "IPY_MODEL_7da57ecc083149598e49b5eda14c59a1"
      }
     },
     "548f8ce9a3b04463b5f27851c0b7777c": {
      "model_module": "@jupyter-widgets/base",
      "model_module_version": "1.2.0",
      "model_name": "LayoutModel",
      "state": {
       "display": "inline-flex",
       "flex_flow": "row wrap",
       "width": "100%"
      }
     },
     "55ee73d768f94f6bb2f09bc264060509": {
      "model_module": "@jupyter-widgets/controls",
      "model_module_version": "1.5.0",
      "model_name": "HTMLModel",
      "state": {
       "layout": "IPY_MODEL_e6e08cfd304541599fe36a1a3298b373",
       "style": "IPY_MODEL_5acba80590484f839557e3237c5c77c3",
       "value": " 2/2 [00:00&lt;00:00, 13.06it/s]"
      }
     },
     "58210644bd8a43c3a7b7060a11fb2cd5": {
      "model_module": "@jupyter-widgets/controls",
      "model_module_version": "1.5.0",
      "model_name": "HTMLModel",
      "state": {
       "layout": "IPY_MODEL_084bb55f5f444e648d372ce337653c33",
       "style": "IPY_MODEL_cf47c6b5b2cc457b86491811621a877d",
       "value": " 30/30 [00:01&lt;00:00, 19.42it/s]"
      }
     },
     "5a31e859370c412b8f1bd9d571f4b439": {
      "model_module": "@jupyter-widgets/base",
      "model_module_version": "1.2.0",
      "model_name": "LayoutModel",
      "state": {
       "flex": "2"
      }
     },
     "5acba80590484f839557e3237c5c77c3": {
      "model_module": "@jupyter-widgets/controls",
      "model_module_version": "1.5.0",
      "model_name": "DescriptionStyleModel",
      "state": {
       "description_width": ""
      }
     },
     "5cbe8bb7722141eabea0b7d1e9be286f": {
      "model_module": "@jupyter-widgets/controls",
      "model_module_version": "1.5.0",
      "model_name": "HTMLModel",
      "state": {
       "layout": "IPY_MODEL_af3931df9995489aab709a19829d7845",
       "style": "IPY_MODEL_977e112e62394b45ae63dc6d43252358",
       "value": " 2/2 [00:00&lt;00:00, 113.62it/s]"
      }
     },
     "62f094e83d9a4ad9a07baee5528e35e1": {
      "model_module": "@jupyter-widgets/base",
      "model_module_version": "1.2.0",
      "model_name": "LayoutModel",
      "state": {
       "display": "inline-flex",
       "flex_flow": "row wrap",
       "width": "100%"
      }
     },
     "642fb2e3c2dd4104bae9f64127007b66": {
      "model_module": "@jupyter-widgets/controls",
      "model_module_version": "1.5.0",
      "model_name": "DescriptionStyleModel",
      "state": {
       "description_width": ""
      }
     },
     "6dd0ce749cc548febf2c179d69287527": {
      "model_module": "@jupyter-widgets/controls",
      "model_module_version": "1.5.0",
      "model_name": "HTMLModel",
      "state": {
       "layout": "IPY_MODEL_2ded979116114e84a7cfc7b5bf71aa1d",
       "style": "IPY_MODEL_c854796e2dc34f5198283fc51557c320",
       "value": "Validation DataLoader 0: 100%"
      }
     },
     "6fce0cc6110a49309d4d96f66aecc298": {
      "model_module": "@jupyter-widgets/controls",
      "model_module_version": "1.5.0",
      "model_name": "ProgressStyleModel",
      "state": {
       "description_width": ""
      }
     },
     "714ac4007f5f48d1a1203ae7b2cbd9a8": {
      "model_module": "@jupyter-widgets/base",
      "model_module_version": "1.2.0",
      "model_name": "LayoutModel",
      "state": {
       "display": "inline-flex",
       "flex_flow": "row wrap",
       "width": "100%"
      }
     },
     "7b3f25d70a8e4d2792f79a2b21ba3fbe": {
      "model_module": "@jupyter-widgets/controls",
      "model_module_version": "1.5.0",
      "model_name": "HTMLModel",
      "state": {
       "layout": "IPY_MODEL_48c47640322b4f13826060dff8547e5c",
       "style": "IPY_MODEL_321c4016698e4f9da7c36909dca3dbb8",
       "value": "Predicting DataLoader 0: 100%"
      }
     },
     "7d44df1dbed1404fa30e68eedd70cb0e": {
      "model_module": "@jupyter-widgets/controls",
      "model_module_version": "1.5.0",
      "model_name": "HBoxModel",
      "state": {
       "children": [
        "IPY_MODEL_947c91107b6943e28a00b9fdb8d33100",
        "IPY_MODEL_bc0d51eebfdd4c75a942911f2ece092d",
        "IPY_MODEL_3e98b98f8a534535b272e0851e9b8cc0"
       ],
       "layout": "IPY_MODEL_548f8ce9a3b04463b5f27851c0b7777c"
      }
     },
     "7da57ecc083149598e49b5eda14c59a1": {
      "model_module": "@jupyter-widgets/base",
      "model_module_version": "1.2.0",
      "model_name": "LayoutModel",
      "state": {
       "display": "inline-flex",
       "flex_flow": "row wrap",
       "width": "100%"
      }
     },
     "7e090d4882954359a614406b8b16861f": {
      "model_module": "@jupyter-widgets/base",
      "model_module_version": "1.2.0",
      "model_name": "LayoutModel",
      "state": {
       "flex": "2"
      }
     },
     "7e24a92394fc4ea390bc7fd628b7552f": {
      "model_module": "@jupyter-widgets/controls",
      "model_module_version": "1.5.0",
      "model_name": "HBoxModel",
      "state": {
       "children": [
        "IPY_MODEL_016ddc6d1d1748de80982a936e638d7d",
        "IPY_MODEL_882407e548e347b89d47d8c67b13be1e",
        "IPY_MODEL_5cbe8bb7722141eabea0b7d1e9be286f"
       ],
       "layout": "IPY_MODEL_27fcdd9a75b74b76ae81ab356a528bc6"
      }
     },
     "823cf75da92b44ad9462dddd057d7d68": {
      "model_module": "@jupyter-widgets/controls",
      "model_module_version": "1.5.0",
      "model_name": "FloatProgressModel",
      "state": {
       "layout": "IPY_MODEL_d364b47ccfff4b83a559e9586ef3e09a",
       "max": 2,
       "style": "IPY_MODEL_f3bdd87e803942c6b0cd5c35657be9c3",
       "value": 2
      }
     },
     "882407e548e347b89d47d8c67b13be1e": {
      "model_module": "@jupyter-widgets/controls",
      "model_module_version": "1.5.0",
      "model_name": "FloatProgressModel",
      "state": {
       "bar_style": "success",
       "layout": "IPY_MODEL_117760f622764afeb24667011eb2ada3",
       "max": 2,
       "style": "IPY_MODEL_4f8f6ab56953477fa07e932c0462fe90",
       "value": 2
      }
     },
     "897e120a73864fad9c485ad6cf77a712": {
      "model_module": "@jupyter-widgets/controls",
      "model_module_version": "1.5.0",
      "model_name": "DescriptionStyleModel",
      "state": {
       "description_width": ""
      }
     },
     "913dea7c718c4af29b3761140ae2e197": {
      "model_module": "@jupyter-widgets/controls",
      "model_module_version": "1.5.0",
      "model_name": "ProgressStyleModel",
      "state": {
       "description_width": ""
      }
     },
     "947c91107b6943e28a00b9fdb8d33100": {
      "model_module": "@jupyter-widgets/controls",
      "model_module_version": "1.5.0",
      "model_name": "HTMLModel",
      "state": {
       "layout": "IPY_MODEL_e9de9a81a7f44af0ae658a419c7f6dce",
       "style": "IPY_MODEL_294d0281bd2647cabb9c8c210761686f",
       "value": "Epoch 1: 100%"
      }
     },
     "9706bee75775477a971cf3e3928419b6": {
      "model_module": "@jupyter-widgets/controls",
      "model_module_version": "1.5.0",
      "model_name": "ProgressStyleModel",
      "state": {
       "description_width": ""
      }
     },
     "977e112e62394b45ae63dc6d43252358": {
      "model_module": "@jupyter-widgets/controls",
      "model_module_version": "1.5.0",
      "model_name": "DescriptionStyleModel",
      "state": {
       "description_width": ""
      }
     },
     "99096246a81a4ea08a233b563a7c4dd2": {
      "model_module": "@jupyter-widgets/base",
      "model_module_version": "1.2.0",
      "model_name": "LayoutModel",
      "state": {
       "display": "inline-flex",
       "flex_flow": "row wrap",
       "width": "100%"
      }
     },
     "9aaf2c77cce44a6f87aa721b4ff344f1": {
      "model_module": "@jupyter-widgets/base",
      "model_module_version": "1.2.0",
      "model_name": "LayoutModel",
      "state": {}
     },
     "9f0644be27904816881d9f7770e6e84f": {
      "model_module": "@jupyter-widgets/controls",
      "model_module_version": "1.5.0",
      "model_name": "DescriptionStyleModel",
      "state": {
       "description_width": ""
      }
     },
     "a6c25d9b43e6456583e5bda32aafcfeb": {
      "model_module": "@jupyter-widgets/controls",
      "model_module_version": "1.5.0",
      "model_name": "HTMLModel",
      "state": {
       "layout": "IPY_MODEL_bf894f50fe094c3c95bc037c8d63a91c",
       "style": "IPY_MODEL_f02cb936bd8d47edb6518d95fe17cb6c",
       "value": "Testing DataLoader 0: 100%"
      }
     },
     "a7039e60ee834230b3cdfbdabc9498a1": {
      "model_module": "@jupyter-widgets/base",
      "model_module_version": "1.2.0",
      "model_name": "LayoutModel",
      "state": {}
     },
     "ab18616720d64bf0be6c2da822a63352": {
      "model_module": "@jupyter-widgets/controls",
      "model_module_version": "1.5.0",
      "model_name": "ProgressStyleModel",
      "state": {
       "description_width": ""
      }
     },
     "af3931df9995489aab709a19829d7845": {
      "model_module": "@jupyter-widgets/base",
      "model_module_version": "1.2.0",
      "model_name": "LayoutModel",
      "state": {}
     },
     "b3c227a2a5cb4afdbf9a05e72cbbf460": {
      "model_module": "@jupyter-widgets/controls",
      "model_module_version": "1.5.0",
      "model_name": "FloatProgressModel",
      "state": {
       "layout": "IPY_MODEL_b503dbe6ae054be9866bbcff5165a723",
       "max": 30,
       "style": "IPY_MODEL_6fce0cc6110a49309d4d96f66aecc298",
       "value": 30
      }
     },
     "b503dbe6ae054be9866bbcff5165a723": {
      "model_module": "@jupyter-widgets/base",
      "model_module_version": "1.2.0",
      "model_name": "LayoutModel",
      "state": {
       "flex": "2"
      }
     },
     "b888d23917b24ce4a8aab148753f5eec": {
      "model_module": "@jupyter-widgets/controls",
      "model_module_version": "1.5.0",
      "model_name": "DescriptionStyleModel",
      "state": {
       "description_width": ""
      }
     },
     "bc0d51eebfdd4c75a942911f2ece092d": {
      "model_module": "@jupyter-widgets/controls",
      "model_module_version": "1.5.0",
      "model_name": "FloatProgressModel",
      "state": {
       "bar_style": "success",
       "layout": "IPY_MODEL_f4693b97123c454db2ad28a1dc5d3ce1",
       "max": 499,
       "style": "IPY_MODEL_5184ff05147a499bb5731d5416ac7d68",
       "value": 499
      }
     },
     "bf894f50fe094c3c95bc037c8d63a91c": {
      "model_module": "@jupyter-widgets/base",
      "model_module_version": "1.2.0",
      "model_name": "LayoutModel",
      "state": {}
     },
     "c050424bbd4f4cddb26382a268485990": {
      "model_module": "@jupyter-widgets/base",
      "model_module_version": "1.2.0",
      "model_name": "LayoutModel",
      "state": {}
     },
     "c6031d520c054423bf77880fc123ce33": {
      "model_module": "@jupyter-widgets/controls",
      "model_module_version": "1.5.0",
      "model_name": "HTMLModel",
      "state": {
       "layout": "IPY_MODEL_a7039e60ee834230b3cdfbdabc9498a1",
       "style": "IPY_MODEL_d6b876eb39a84165ad0a1231fe04719c",
       "value": " 30/30 [00:01&lt;00:00, 19.68it/s]"
      }
     },
     "c854796e2dc34f5198283fc51557c320": {
      "model_module": "@jupyter-widgets/controls",
      "model_module_version": "1.5.0",
      "model_name": "DescriptionStyleModel",
      "state": {
       "description_width": ""
      }
     },
     "cf47c6b5b2cc457b86491811621a877d": {
      "model_module": "@jupyter-widgets/controls",
      "model_module_version": "1.5.0",
      "model_name": "DescriptionStyleModel",
      "state": {
       "description_width": ""
      }
     },
     "d043e226926f49c4af2ff9a87b90d0db": {
      "model_module": "@jupyter-widgets/base",
      "model_module_version": "1.2.0",
      "model_name": "LayoutModel",
      "state": {}
     },
     "d0a69723805d41cebf07d49e4f148655": {
      "model_module": "@jupyter-widgets/controls",
      "model_module_version": "1.5.0",
      "model_name": "HTMLModel",
      "state": {
       "layout": "IPY_MODEL_d043e226926f49c4af2ff9a87b90d0db",
       "style": "IPY_MODEL_897e120a73864fad9c485ad6cf77a712",
       "value": "Sanity Checking DataLoader 0: 100%"
      }
     },
     "d364b47ccfff4b83a559e9586ef3e09a": {
      "model_module": "@jupyter-widgets/base",
      "model_module_version": "1.2.0",
      "model_name": "LayoutModel",
      "state": {
       "flex": "2"
      }
     },
     "d6b876eb39a84165ad0a1231fe04719c": {
      "model_module": "@jupyter-widgets/controls",
      "model_module_version": "1.5.0",
      "model_name": "DescriptionStyleModel",
      "state": {
       "description_width": ""
      }
     },
     "d9e6e333cb784cd2b6c11f2b8e65ef97": {
      "model_module": "@jupyter-widgets/controls",
      "model_module_version": "1.5.0",
      "model_name": "DescriptionStyleModel",
      "state": {
       "description_width": ""
      }
     },
     "dd52628a93f4438db2e361c23a7a3b96": {
      "model_module": "@jupyter-widgets/controls",
      "model_module_version": "1.5.0",
      "model_name": "FloatProgressModel",
      "state": {
       "bar_style": "success",
       "layout": "IPY_MODEL_e8d0e75886e24e9383226bdd83f1041a",
       "max": 30,
       "style": "IPY_MODEL_9706bee75775477a971cf3e3928419b6",
       "value": 30
      }
     },
     "de619b7cfdb84bb89b4b7da6700bdb39": {
      "model_module": "@jupyter-widgets/controls",
      "model_module_version": "1.5.0",
      "model_name": "FloatProgressModel",
      "state": {
       "bar_style": "success",
       "layout": "IPY_MODEL_7e090d4882954359a614406b8b16861f",
       "max": 30,
       "style": "IPY_MODEL_06c3bce71d0b4fde9f436953effceaa0",
       "value": 30
      }
     },
     "e6e08cfd304541599fe36a1a3298b373": {
      "model_module": "@jupyter-widgets/base",
      "model_module_version": "1.2.0",
      "model_name": "LayoutModel",
      "state": {}
     },
     "e77a7bb6995b4b02a5daddcdc27d22e8": {
      "model_module": "@jupyter-widgets/controls",
      "model_module_version": "1.5.0",
      "model_name": "FloatProgressModel",
      "state": {
       "layout": "IPY_MODEL_272dcfdc01944131a06e4077d8b3a22d",
       "max": 30,
       "style": "IPY_MODEL_ab18616720d64bf0be6c2da822a63352",
       "value": 30
      }
     },
     "e8d0e75886e24e9383226bdd83f1041a": {
      "model_module": "@jupyter-widgets/base",
      "model_module_version": "1.2.0",
      "model_name": "LayoutModel",
      "state": {
       "flex": "2"
      }
     },
     "e9ab473e7a354455ab3af44f9a97ff4f": {
      "model_module": "@jupyter-widgets/base",
      "model_module_version": "1.2.0",
      "model_name": "LayoutModel",
      "state": {}
     },
     "e9de9a81a7f44af0ae658a419c7f6dce": {
      "model_module": "@jupyter-widgets/base",
      "model_module_version": "1.2.0",
      "model_name": "LayoutModel",
      "state": {}
     },
     "eb4a1459585e4783a526d79328fca9a1": {
      "model_module": "@jupyter-widgets/base",
      "model_module_version": "1.2.0",
      "model_name": "LayoutModel",
      "state": {}
     },
     "f02cb936bd8d47edb6518d95fe17cb6c": {
      "model_module": "@jupyter-widgets/controls",
      "model_module_version": "1.5.0",
      "model_name": "DescriptionStyleModel",
      "state": {
       "description_width": ""
      }
     },
     "f3bdd87e803942c6b0cd5c35657be9c3": {
      "model_module": "@jupyter-widgets/controls",
      "model_module_version": "1.5.0",
      "model_name": "ProgressStyleModel",
      "state": {
       "description_width": ""
      }
     },
     "f4693b97123c454db2ad28a1dc5d3ce1": {
      "model_module": "@jupyter-widgets/base",
      "model_module_version": "1.2.0",
      "model_name": "LayoutModel",
      "state": {
       "flex": "2"
      }
     },
     "f8e52e9373c64b42aeddc32a77c7a84f": {
      "model_module": "@jupyter-widgets/controls",
      "model_module_version": "1.5.0",
      "model_name": "HBoxModel",
      "state": {
       "children": [
        "IPY_MODEL_6dd0ce749cc548febf2c179d69287527",
        "IPY_MODEL_de619b7cfdb84bb89b4b7da6700bdb39",
        "IPY_MODEL_0664afc023fd47c39495738125587f70"
       ],
       "layout": "IPY_MODEL_714ac4007f5f48d1a1203ae7b2cbd9a8"
      }
     },
     "fb8138b8930d4b9da28a5b5e26218f73": {
      "model_module": "@jupyter-widgets/controls",
      "model_module_version": "1.5.0",
      "model_name": "DescriptionStyleModel",
      "state": {
       "description_width": ""
      }
     }
    },
    "version_major": 2,
    "version_minor": 0
   }
  }
 },
 "nbformat": 4,
 "nbformat_minor": 4
}
