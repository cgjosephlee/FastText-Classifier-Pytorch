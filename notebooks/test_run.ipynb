{
 "cells": [
  {
   "cell_type": "code",
   "execution_count": null,
   "metadata": {},
   "outputs": [],
   "source": []
  }
 ],
 "metadata": {
  "kernelspec": {
   "display_name": "Python 3.8.13 ('fasttext_pt')",
   "language": "python",
   "name": "python3"
  },
  "language_info": {
   "name": "python",
   "version": "3.8.13"
  },
  "orig_nbformat": 4,
  "vscode": {
   "interpreter": {
    "hash": "7115290ef1bb37cb34dc7517928bf14dd9d29e97700f82e575ae894e8b4a577e"
   }
  }
 },
 "nbformat": 4,
 "nbformat_minor": 2
}
